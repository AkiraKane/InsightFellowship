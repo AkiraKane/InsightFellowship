{
 "metadata": {
  "name": "",
  "signature": "sha256:89080dac214d38464030ad12cf9dbe9dc91489432b13c1d48d774cfffb435656"
 },
 "nbformat": 3,
 "nbformat_minor": 0,
 "worksheets": []
}