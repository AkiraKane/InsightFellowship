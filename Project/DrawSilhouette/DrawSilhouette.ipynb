{
 "metadata": {
  "name": "",
  "signature": "sha256:a90c9c6184fc28980f57836087c9a47ecbf74ddeed0379d9ed18f5d9581731ac"
 },
 "nbformat": 3,
 "nbformat_minor": 0,
 "worksheets": [
  {
   "cells": [
    {
     "cell_type": "code",
     "collapsed": false,
     "input": [
      "%matplotlib inline\n",
      "from my_classes import *"
     ],
     "language": "python",
     "metadata": {},
     "outputs": [],
     "prompt_number": 1
    },
    {
     "cell_type": "code",
     "collapsed": false,
     "input": [
      "class Roof:\n",
      "    def __init__(self, phi1=None, phi2=None, theta=None):\n",
      "        self.phi1 = phi1\n",
      "        self.phi2 = phi2\n",
      "        self.theta = theta\n",
      "    \n",
      "    def show(self):\n",
      "        print \"(phi1=\" + str(self.phi1) + \", phi2=\" + str(self.phi2) + \", theta=\" + str(self.theta) +\")\"   \n"
     ],
     "language": "python",
     "metadata": {},
     "outputs": [],
     "prompt_number": 2
    },
    {
     "cell_type": "code",
     "collapsed": false,
     "input": [
      "class Cliff:\n",
      "    def __init__(self, phi=None, theta_L=None, theta_R=None ):\n",
      "        self.phi = phi\n",
      "        self.theta_L = theta_L\n",
      "        self.theta_R = theta_R\n",
      "    \n",
      "    def show(self):\n",
      "        print \"(phi=\" + str(self.phi) + \", theta_L=\" + str(self.theta_L) + \", theta_R=\" + str(self.theta_R) +\")\"   \n",
      "    "
     ],
     "language": "python",
     "metadata": {},
     "outputs": [],
     "prompt_number": 3
    },
    {
     "cell_type": "code",
     "collapsed": false,
     "input": [
      "class Silhouette:\n",
      "    \n",
      "    def __init__(self):\n",
      "        self.cliffs = [] # list of cliffs ordered by phi\n",
      "        # add the two extreme points\n",
      "        self.cliffs.append(Cliff(-np.pi, 0,0))\n",
      "        self.cliffs.append(Cliff(np.pi, 0,0))\n",
      "    \n",
      "    def draw(self, color='k', deg=True, marker=\"None\"):\n",
      "        # set angle unit\n",
      "        if deg:\n",
      "            conversion_ratio = 180 / np.pi\n",
      "            unit = 180\n",
      "        else:\n",
      "            conversion_ratio = 1\n",
      "            unit = np.pi\n",
      "        \n",
      "        # generate (phi, theta) points from cliffs (phi, theta_R, theta_L)\n",
      "        phi_list = []\n",
      "        theta_list = []\n",
      "        \n",
      "        # phi_list.append(-unit)\n",
      "        # theta_list.append(self.cliffs[0].theta_L * conversion_ratio)\n",
      "        \n",
      "        for cliff in self.cliffs:\n",
      "            phi_list.append(cliff.phi * conversion_ratio)\n",
      "            theta_list.append(cliff.theta_L * conversion_ratio)\n",
      "            phi_list.append(cliff.phi * conversion_ratio)\n",
      "            theta_list.append(cliff.theta_R * conversion_ratio)\n",
      "        \n",
      "        # phi_list.append(unit)\n",
      "        # theta_list.append(self.cliffs[-1].theta_R * conversion_ratio)\n",
      "        \n",
      "        plt.plot(phi_list, theta_list, color=color, marker=marker)\n",
      "        # plt.gca().set_aspect('equal', adjustable='box')\n",
      "        plt.gcf().set_size_inches(10, 2.5)\n",
      "        plt.axis((-unit, unit, 0, unit/2))\n",
      "        plt.show()\n",
      "        \n",
      "    \n",
      "    def add_roof(self, roof):\n",
      "        # find the cliffs that are between the roof's phi1 and phi2\n",
      "        cliffs_inside = []\n",
      "        insert_index_1 = 0\n",
      "        insert_index_2 = 0\n",
      "        \n",
      "        i = 0\n",
      "        while self.cliffs[i].phi < roof.phi1:\n",
      "            insert_index_1 += 1\n",
      "            insert_index_2 += 1\n",
      "            i += 1\n",
      "        while self.cliffs[i].phi < roof.phi2:\n",
      "            insert_index_2 += 1\n",
      "            i += 1\n",
      "            \n",
      "            \n",
      "        # in case the entire roof falls between too cliffs\n",
      "        if not self.cliffs[insert_index_1 : insert_index_2]:\n",
      "            # get the silhouette's height from previous cliff\n",
      "            theta = self.cliffs[insert_index_1 -1].theta_R\n",
      "            # add only if it's higher\n",
      "            if theta < roof.theta:\n",
      "                cliff1 = Cliff(roof.phi1, theta, roof.theta)\n",
      "                cliff2 = Cliff(roof.phi2, roof.theta, theta)\n",
      "                self.cliffs.insert(insert_index_1, cliff1)\n",
      "                insert_index_2 += 1 # the first insertion shift the index\n",
      "                self.cliffs.insert(insert_index_2, cliff2)\n",
      "                \n",
      "        # in case the roof spans over at least one cliff\n",
      "        else:\n",
      "            \n",
      "            # process the cliffs between the roof endpoints\n",
      "            cliffs_to_delete = []\n",
      "            for i in range(insert_index_1, insert_index_2):\n",
      "                L = self.cliffs[i].theta_L\n",
      "                R = self.cliffs[i].theta_R\n",
      "                H = roof.theta\n",
      "                \n",
      "                # if the cliff is under the roof, delete it\n",
      "                if L < H and R < H:\n",
      "                    cliffs_to_delete.insert(0,i)\n",
      "                \n",
      "                # if the cliff crosses the roof downwards, update it\n",
      "                elif L > H and R < H:\n",
      "                    self.cliffs[i].theta_R = roof.theta\n",
      "                \n",
      "                # if the cliff crosses the roof upwards, update it\n",
      "                elif L < H and R > H:\n",
      "                    self.cliffs[i].theta_L = roof.theta\n",
      "                \n",
      "                # if the cliff is above the roof, it shouldn't change\n",
      "            \n",
      "            # process the endpoints of the roof\n",
      "            theta1 = self.cliffs[insert_index_1 -1].theta_R\n",
      "            theta2 = self.cliffs[insert_index_2].theta_L\n",
      "            \n",
      "            # add phi2 first\n",
      "            if theta2 < roof.theta:\n",
      "                cliff2 = Cliff(roof.phi2, roof.theta, theta2)\n",
      "                self.cliffs.insert(insert_index_2, cliff2)\n",
      "            \n",
      "            # delete cliffs under the roof\n",
      "            for index in cliffs_to_delete:\n",
      "                self.cliffs.pop(index)\n",
      "            \n",
      "            # add phi1 last\n",
      "            if theta1 < roof.theta:\n",
      "                cliff1 = Cliff(roof.phi1, theta1, roof.theta)\n",
      "                self.cliffs.insert(insert_index_1, cliff1)\n",
      "            \n",
      "            \n",
      "                    "
     ],
     "language": "python",
     "metadata": {},
     "outputs": [],
     "prompt_number": 105
    },
    {
     "cell_type": "code",
     "collapsed": false,
     "input": [
      "sil = Silhouette()\n",
      "sil.add_roof(Roof(-1, 0, 0.5))\n",
      "sil.draw(marker=\"o\", deg=False)\n",
      "sil.add_roof(Roof(0, 1.5, 0.2))\n",
      "sil.draw(marker=\"o\", deg=False)\n",
      "sil.add_roof(Roof(-0.5, 2, 1))\n",
      "sil.draw(marker=\"o\", deg=False)\n",
      "for cliff in sil.cliffs:\n",
      "    cliff.show()\n",
      "print len(sil.cliffs)"
     ],
     "language": "python",
     "metadata": {},
     "outputs": [
      {
       "metadata": {},
       "output_type": "display_data",
       "png": "[encoded data removed]",
       "text": [
        "<matplotlib.figure.Figure at 0x7f7e974aa750>"
       ]
      },
      {
       "metadata": {},
       "output_type": "display_data",
       "png": "[encoded data removed]",
       "text": [
        "<matplotlib.figure.Figure at 0x7f7e971ef550>"
       ]
      },
      {
       "metadata": {},
       "output_type": "display_data",
       "png": "[encoded data removed]",
       "text": [
        "<matplotlib.figure.Figure at 0x7f7e972fb050>"
       ]
      },
      {
       "output_type": "stream",
       "stream": "stdout",
       "text": [
        "(phi=-3.14159265359, theta_L=0, theta_R=0)\n",
        "(phi=-1, theta_L=0, theta_R=0.5)\n",
        "(phi=-0.5, theta_L=0.5, theta_R=1)\n",
        "(phi=2, theta_L=1, theta_R=0)\n",
        "(phi=3.14159265359, theta_L=0, theta_R=0)\n",
        "5\n"
       ]
      }
     ],
     "prompt_number": 106
    },
    {
     "cell_type": "code",
     "collapsed": false,
     "input": [
      "# create test for iteratively adding cliffs to the silhouette\n",
      "number_of_buildings = 5\n",
      "width = 0.1\n",
      "\n",
      "phi1_list = (np.random.rand(number_of_buildings) * 2 * np.pi) - np.pi\n",
      "phi1_list = np.sort(phi1_list)\n",
      "phi2_list = phi1_list + width\n",
      "theta_list = np.random.rand(number_of_buildings) * np.pi /2\n",
      "\n",
      "# load it into a list of Roof instances\n",
      "roofs = []\n",
      "for i in range(0, number_of_buildings):\n",
      "    phi1 = phi1_list[i]\n",
      "    phi2 = phi2_list[i]\n",
      "    theta = theta_list[i]\n",
      "    roofs.append( Roof(phi1, phi2, theta) )"
     ],
     "language": "python",
     "metadata": {},
     "outputs": [],
     "prompt_number": 47
    },
    {
     "cell_type": "code",
     "collapsed": false,
     "input": [
      "sil = Silhouette()\n",
      "sil.add_roof(Roof(1,1.5, 0.5))\n",
      "sil.add_roof(Roof(-1.2,0, 0.1))\n",
      "sil.add_roof(Roof(-1,-0.5, 1))\n",
      "sil.add_roof(Roof(-3,-2, 1.4))\n",
      "sil.add_roof(Roof(-2.8,-2.2, 1))\n",
      "sil.add_roof(Roof(0.5,2, 0.2))\n",
      "sil.add_roof(Roof(-2.5,-1.5, 0.5))\n",
      "sil.add_roof(Roof(-1.7,-1.4, 0.8))\n",
      "sil.add_roof(Roof(-0.1, 1.8, 1))\n",
      "sil.draw(marker=\"o\", deg=False)\n",
      "for cliff in sil.cliffs:\n",
      "    cliff.show()\n",
      "print len(sil.cliffs)"
     ],
     "language": "python",
     "metadata": {},
     "outputs": [
      {
       "metadata": {},
       "output_type": "display_data",
       "png": "[encoded data removed]",
       "text": [
        "<matplotlib.figure.Figure at 0x7f7e973ead50>"
       ]
      },
      {
       "output_type": "stream",
       "stream": "stdout",
       "text": [
        "(phi=-3.14159265359, theta_L=0, theta_R=0)\n",
        "(phi=-3, theta_L=0, theta_R=1.4)\n",
        "(phi=-2, theta_L=1.4, theta_R=0.5)\n",
        "(phi=-1.7, theta_L=0.5, theta_R=0.8)\n",
        "(phi=-1.4, theta_L=0.8, theta_R=0)\n",
        "(phi=-1.2, theta_L=0, theta_R=0.1)\n",
        "(phi=-1, theta_L=0.1, theta_R=1)\n",
        "(phi=-0.5, theta_L=1, theta_R=0.1)\n",
        "(phi=-0.1, theta_L=0.1, theta_R=1)\n",
        "(phi=1.8, theta_L=1, theta_R=0.2)\n",
        "(phi=2, theta_L=0.2, theta_R=0)\n",
        "(phi=3.14159265359, theta_L=0, theta_R=0)\n",
        "12\n"
       ]
      }
     ],
     "prompt_number": 109
    },
    {
     "cell_type": "code",
     "collapsed": false,
     "input": [
      "# create test Silhouette instance\n",
      "number_of_test_points = 20\n",
      "my_cliffs = []\n",
      "phis = (np.random.rand(number_of_test_points) * 2 * np.pi) - np.pi\n",
      "phis = np.sort(phis)\n",
      "thetas = np.random.rand(number_of_test_points) * np.pi /2\n",
      "thetas = np.append(thetas, thetas[0])\n",
      "\n",
      "for i in range(0, number_of_test_points):\n",
      "    my_cliffs.append(Cliff(phis[i], thetas[i], thetas[i+1]))\n",
      "    \n",
      "sil = Silhouette(my_cliffs)\n",
      "\n",
      "sil.draw()"
     ],
     "language": "python",
     "metadata": {},
     "outputs": [
      {
       "metadata": {},
       "output_type": "display_data",
       "png": "[encoded data removed]",
       "text": [
        "<matplotlib.figure.Figure at 0x7fb4c5911050>"
       ]
      }
     ],
     "prompt_number": 120
    },
    {
     "cell_type": "code",
     "collapsed": false,
     "input": [],
     "language": "python",
     "metadata": {},
     "outputs": []
    },
    {
     "cell_type": "code",
     "collapsed": false,
     "input": [],
     "language": "python",
     "metadata": {},
     "outputs": []
    },
    {
     "cell_type": "code",
     "collapsed": false,
     "input": [],
     "language": "python",
     "metadata": {},
     "outputs": [],
     "prompt_number": 121
    },
    {
     "cell_type": "code",
     "collapsed": false,
     "input": [
      "arr = ['a', 'b', 'c']\n",
      "arr.insert(1,'x')\n",
      "print arr\n",
      "print sorted(arr, reverse=True)"
     ],
     "language": "python",
     "metadata": {},
     "outputs": [
      {
       "output_type": "stream",
       "stream": "stdout",
       "text": [
        "['a', 'x', 'b', 'c']\n",
        "['x', 'c', 'b', 'a']\n"
       ]
      }
     ],
     "prompt_number": 98
    },
    {
     "cell_type": "code",
     "collapsed": false,
     "input": [
      "arr[1:2]"
     ],
     "language": "python",
     "metadata": {},
     "outputs": [
      {
       "metadata": {},
       "output_type": "pyout",
       "prompt_number": 126,
       "text": [
        "['x']"
       ]
      }
     ],
     "prompt_number": 126
    },
    {
     "cell_type": "code",
     "collapsed": false,
     "input": [
      "arr.pop(1)"
     ],
     "language": "python",
     "metadata": {},
     "outputs": [
      {
       "metadata": {},
       "output_type": "pyout",
       "prompt_number": 129,
       "text": [
        "'x'"
       ]
      }
     ],
     "prompt_number": 129
    },
    {
     "cell_type": "code",
     "collapsed": false,
     "input": [
      "arr"
     ],
     "language": "python",
     "metadata": {},
     "outputs": [
      {
       "metadata": {},
       "output_type": "pyout",
       "prompt_number": 130,
       "text": [
        "['a', 'b', 'c']"
       ]
      }
     ],
     "prompt_number": 130
    },
    {
     "cell_type": "code",
     "collapsed": false,
     "input": [],
     "language": "python",
     "metadata": {},
     "outputs": []
    }
   ],
   "metadata": {}
  }
 ]
}