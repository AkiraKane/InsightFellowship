{
 "metadata": {
  "name": "",
  "signature": "sha256:c96c7b02e2b8af4a21ee558ed8ed2c162478fc1bf8dcd47b90281d9d188dbbfc"
 },
 "nbformat": 3,
 "nbformat_minor": 0,
 "worksheets": [
  {
   "cells": [
    {
     "cell_type": "code",
     "collapsed": false,
     "input": [
      "%matplotlib inline\n",
      "from my_classes import *"
     ],
     "language": "python",
     "metadata": {},
     "outputs": [],
     "prompt_number": 4
    },
    {
     "cell_type": "code",
     "collapsed": false,
     "input": [
      "sil = Silhouette()\n",
      "sil.add_roof(Roof(-1, 0, 0.5))\n",
      "sil.draw(marker=\"o\", deg=False)\n",
      "sil.add_roof(Roof(0, 1.5, 0.2))\n",
      "sil.draw(marker=\"o\", deg=False)\n",
      "sil.add_roof(Roof(-0.5, 2, 1))\n",
      "sil.draw(marker=\"o\", deg=False)\n",
      "for cliff in sil.cliffs:\n",
      "    cliff.show()\n",
      "print len(sil.cliffs)"
     ],
     "language": "python",
     "metadata": {},
     "outputs": [
      {
       "metadata": {},
       "output_type": "display_data",
       "png": "[encoded data removed]",
       "text": [
        "<matplotlib.figure.Figure at 0x7f20f001d2d0>"
       ]
      },
      {
       "metadata": {},
       "output_type": "display_data",
       "png": "[encoded data removed]",
       "text": [
        "<matplotlib.figure.Figure at 0x7f20f004e590>"
       ]
      },
      {
       "metadata": {},
       "output_type": "display_data",
       "png": "[encoded data removed]",
       "text": [
        "<matplotlib.figure.Figure at 0x7f20fd12d610>"
       ]
      },
      {
       "output_type": "stream",
       "stream": "stdout",
       "text": [
        "(phi=-3.14159265359, theta_L=0, theta_R=0)\n",
        "(phi=-1, theta_L=0, theta_R=0.5)\n",
        "(phi=-0.5, theta_L=0.5, theta_R=1)\n",
        "(phi=2, theta_L=1, theta_R=0)\n",
        "(phi=3.14159265359, theta_L=0, theta_R=0)\n",
        "5\n"
       ]
      }
     ],
     "prompt_number": 5
    },
    {
     "cell_type": "code",
     "collapsed": false,
     "input": [],
     "language": "python",
     "metadata": {},
     "outputs": [],
     "prompt_number": 47
    },
    {
     "cell_type": "code",
     "collapsed": false,
     "input": [
      "sil = Silhouette()\n",
      "sil.add_roof(Roof(1,1.5, 0.5))\n",
      "sil.add_roof(Roof(-1.2,0, 0.1))\n",
      "sil.add_roof(Roof(-1,-0.5, 1))\n",
      "sil.add_roof(Roof(-3,-2, 1.4))\n",
      "sil.add_roof(Roof(-2.8,-2.2, 1))\n",
      "sil.add_roof(Roof(0.5,2, 0.2))\n",
      "sil.add_roof(Roof(-2.5,-1.5, 0.5))\n",
      "sil.add_roof(Roof(-1.7,-1.4, 0.8))\n",
      "sil.add_roof(Roof(-0.1, 1.8, 1))\n",
      "sil.draw(marker=\"o\", deg=False)\n",
      "for cliff in sil.cliffs:\n",
      "    cliff.show()\n",
      "print len(sil.cliffs)"
     ],
     "language": "python",
     "metadata": {},
     "outputs": [
      {
       "metadata": {},
       "output_type": "display_data",
       "png": "[encoded data removed]",
       "text": [
        "<matplotlib.figure.Figure at 0x7f20f00760d0>"
       ]
      },
      {
       "output_type": "stream",
       "stream": "stdout",
       "text": [
        "(phi=-3.14159265359, theta_L=0, theta_R=0)\n",
        "(phi=-3, theta_L=0, theta_R=1.4)\n",
        "(phi=-2, theta_L=1.4, theta_R=0.5)\n",
        "(phi=-1.7, theta_L=0.5, theta_R=0.8)\n",
        "(phi=-1.4, theta_L=0.8, theta_R=0)\n",
        "(phi=-1.2, theta_L=0, theta_R=0.1)\n",
        "(phi=-1, theta_L=0.1, theta_R=1)\n",
        "(phi=-0.5, theta_L=1, theta_R=0.1)\n",
        "(phi=-0.1, theta_L=0.1, theta_R=1)\n",
        "(phi=1.8, theta_L=1, theta_R=0.2)\n",
        "(phi=2, theta_L=0.2, theta_R=0)\n",
        "(phi=3.14159265359, theta_L=0, theta_R=0)\n",
        "12\n"
       ]
      }
     ],
     "prompt_number": 6
    },
    {
     "cell_type": "code",
     "collapsed": false,
     "input": [
      "# create test for iteratively adding cliffs to the silhouette\n",
      "number_of_buildings = 500\n",
      "size = 0.03\n",
      "\n",
      "phi1_list = (np.random.rand(number_of_buildings) * 2 * np.pi) - np.pi\n",
      "phi1_list = np.sort(phi1_list)\n",
      "phi2_list = phi1_list + (np.random.rand(number_of_buildings) * np.pi * size)\n",
      "theta_list = np.random.rand(number_of_buildings) * np.pi /2\n",
      "\n",
      "# load it into a list of Roof instances\n",
      "roofs = []\n",
      "for i in range(0, number_of_buildings):\n",
      "    phi1 = phi1_list[i]\n",
      "    phi2 = phi2_list[i]\n",
      "    theta = theta_list[i]\n",
      "    \n",
      "    # add roofs only within [-pi, pi]\n",
      "    if phi1 > -np.pi and phi2 < np.pi:\n",
      "        roofs.append( Roof(phi1, phi2, theta) )\n",
      "    \n",
      "sil = Silhouette()\n",
      "for roof in roofs:\n",
      "    sil.add_roof(roof)\n",
      "sil.draw()"
     ],
     "language": "python",
     "metadata": {},
     "outputs": [
      {
       "metadata": {},
       "output_type": "display_data",
       "png": "[encoded data removed]",
       "text": [
        "<matplotlib.figure.Figure at 0x7f20efee1c10>"
       ]
      }
     ],
     "prompt_number": 15
    },
    {
     "cell_type": "code",
     "collapsed": false,
     "input": [],
     "language": "python",
     "metadata": {},
     "outputs": []
    },
    {
     "cell_type": "code",
     "collapsed": false,
     "input": [],
     "language": "python",
     "metadata": {},
     "outputs": []
    },
    {
     "cell_type": "code",
     "collapsed": false,
     "input": [],
     "language": "python",
     "metadata": {},
     "outputs": []
    },
    {
     "cell_type": "code",
     "collapsed": false,
     "input": [],
     "language": "python",
     "metadata": {},
     "outputs": []
    },
    {
     "cell_type": "code",
     "collapsed": false,
     "input": [],
     "language": "python",
     "metadata": {},
     "outputs": []
    },
    {
     "cell_type": "code",
     "collapsed": false,
     "input": [
      "# create test Silhouette instance\n",
      "number_of_test_points = 20\n",
      "my_cliffs = []\n",
      "phis = (np.random.rand(number_of_test_points) * 2 * np.pi) - np.pi\n",
      "phis = np.sort(phis)\n",
      "thetas = np.random.rand(number_of_test_points) * np.pi /2\n",
      "thetas = np.append(thetas, thetas[0])\n",
      "\n",
      "for i in range(0, number_of_test_points):\n",
      "    my_cliffs.append(Cliff(phis[i], thetas[i], thetas[i+1]))\n",
      "    \n",
      "sil = Silhouette(my_cliffs)\n",
      "\n",
      "sil.draw()"
     ],
     "language": "python",
     "metadata": {},
     "outputs": [
      {
       "metadata": {},
       "output_type": "display_data",
       "png": "[encoded data removed]",
       "text": [
        "<matplotlib.figure.Figure at 0x7fb4c5911050>"
       ]
      }
     ],
     "prompt_number": 120
    },
    {
     "cell_type": "code",
     "collapsed": false,
     "input": [],
     "language": "python",
     "metadata": {},
     "outputs": []
    },
    {
     "cell_type": "code",
     "collapsed": false,
     "input": [],
     "language": "python",
     "metadata": {},
     "outputs": []
    },
    {
     "cell_type": "code",
     "collapsed": false,
     "input": [],
     "language": "python",
     "metadata": {},
     "outputs": [],
     "prompt_number": 121
    },
    {
     "cell_type": "code",
     "collapsed": false,
     "input": [
      "arr = ['a', 'b', 'c']\n",
      "arr.insert(1,'x')\n",
      "print arr\n",
      "print sorted(arr, reverse=True)"
     ],
     "language": "python",
     "metadata": {},
     "outputs": [
      {
       "output_type": "stream",
       "stream": "stdout",
       "text": [
        "['a', 'x', 'b', 'c']\n",
        "['x', 'c', 'b', 'a']\n"
       ]
      }
     ],
     "prompt_number": 98
    },
    {
     "cell_type": "code",
     "collapsed": false,
     "input": [
      "arr[1:2]"
     ],
     "language": "python",
     "metadata": {},
     "outputs": [
      {
       "metadata": {},
       "output_type": "pyout",
       "prompt_number": 126,
       "text": [
        "['x']"
       ]
      }
     ],
     "prompt_number": 126
    },
    {
     "cell_type": "code",
     "collapsed": false,
     "input": [
      "arr.pop(1)"
     ],
     "language": "python",
     "metadata": {},
     "outputs": [
      {
       "metadata": {},
       "output_type": "pyout",
       "prompt_number": 129,
       "text": [
        "'x'"
       ]
      }
     ],
     "prompt_number": 129
    },
    {
     "cell_type": "code",
     "collapsed": false,
     "input": [
      "arr"
     ],
     "language": "python",
     "metadata": {},
     "outputs": [
      {
       "metadata": {},
       "output_type": "pyout",
       "prompt_number": 130,
       "text": [
        "['a', 'b', 'c']"
       ]
      }
     ],
     "prompt_number": 130
    },
    {
     "cell_type": "code",
     "collapsed": false,
     "input": [],
     "language": "python",
     "metadata": {},
     "outputs": []
    }
   ],
   "metadata": {}
  }
 ]
}