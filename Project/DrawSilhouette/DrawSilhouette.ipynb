{
 "metadata": {
  "name": "",
  "signature": "sha256:95d38e046e3c75254becdab6643ae7bf78dfd68f5b60809a9c65a46ddef7b948"
 },
 "nbformat": 3,
 "nbformat_minor": 0,
 "worksheets": [
  {
   "cells": [
    {
     "cell_type": "code",
     "collapsed": false,
     "input": [
      "%matplotlib inline\n",
      "from my_classes import *"
     ],
     "language": "python",
     "metadata": {},
     "outputs": [],
     "prompt_number": 1
    },
    {
     "cell_type": "code",
     "collapsed": false,
     "input": [
      "sil = Silhouette()\n",
      "sil.add_roof(Roof(-1, 0, 0.5))\n",
      "sil.draw(marker=\"o\", deg=False)\n",
      "sil.add_roof(Roof(0, 1.5, 0.2))\n",
      "sil.draw(marker=\"o\", deg=False)\n",
      "sil.add_roof(Roof(-0.5, 2, 1))\n",
      "sil.draw(marker=\"o\", deg=False)\n",
      "for cliff in sil.cliffs:\n",
      "    cliff.show()\n",
      "print len(sil.cliffs)"
     ],
     "language": "python",
     "metadata": {},
     "outputs": [
      {
       "metadata": {},
       "output_type": "display_data",
       "png": "[encoded data removed]",
       "text": [
        "<matplotlib.figure.Figure at 0x7f5686e170d0>"
       ]
      },
      {
       "metadata": {},
       "output_type": "display_data",
       "png": "[encoded data removed]",
       "text": [
        "<matplotlib.figure.Figure at 0x7f5686e5e350>"
       ]
      },
      {
       "metadata": {},
       "output_type": "display_data",
       "png": "[encoded data removed]",
       "text": [
        "<matplotlib.figure.Figure at 0x7f5686ca3250>"
       ]
      },
      {
       "output_type": "stream",
       "stream": "stdout",
       "text": [
        "(phi=-3.14159265359, theta_L=0, theta_R=0)\n",
        "(phi=-1, theta_L=0, theta_R=0.5)\n",
        "(phi=-0.5, theta_L=0.5, theta_R=1)\n",
        "(phi=2, theta_L=1, theta_R=0)\n",
        "(phi=3.14159265359, theta_L=0, theta_R=0)\n",
        "5\n"
       ]
      }
     ],
     "prompt_number": 2
    },
    {
     "cell_type": "code",
     "collapsed": false,
     "input": [],
     "language": "python",
     "metadata": {},
     "outputs": [],
     "prompt_number": 47
    },
    {
     "cell_type": "code",
     "collapsed": false,
     "input": [
      "sil = Silhouette()\n",
      "sil.add_roof(Roof(1,1.5, 0.5))\n",
      "sil.add_roof(Roof(-1.2,0, 0.1))\n",
      "sil.add_roof(Roof(-1,-0.5, 1))\n",
      "sil.add_roof(Roof(-3,-2, 1.4))\n",
      "sil.add_roof(Roof(-2.8,-2.2, 1))\n",
      "sil.add_roof(Roof(0.5,2, 0.2))\n",
      "sil.add_roof(Roof(-2.5,-1.5, 0.5))\n",
      "sil.add_roof(Roof(-1.7,-1.4, 0.8))\n",
      "sil.add_roof(Roof(-0.1, 1.8, 1))\n",
      "sil.draw(marker=\"o\", deg=False)\n",
      "for cliff in sil.cliffs:\n",
      "    cliff.show()\n",
      "print len(sil.cliffs)"
     ],
     "language": "python",
     "metadata": {},
     "outputs": [
      {
       "metadata": {},
       "output_type": "display_data",
       "png": "[encoded data removed]",
       "text": [
        "<matplotlib.figure.Figure at 0x7f56a4358690>"
       ]
      },
      {
       "output_type": "stream",
       "stream": "stdout",
       "text": [
        "(phi=-3.14159265359, theta_L=0, theta_R=0)\n",
        "(phi=-3, theta_L=0, theta_R=1.4)\n",
        "(phi=-2, theta_L=1.4, theta_R=0.5)\n",
        "(phi=-1.7, theta_L=0.5, theta_R=0.8)\n",
        "(phi=-1.4, theta_L=0.8, theta_R=0)\n",
        "(phi=-1.2, theta_L=0, theta_R=0.1)\n",
        "(phi=-1, theta_L=0.1, theta_R=1)\n",
        "(phi=-0.5, theta_L=1, theta_R=0.1)\n",
        "(phi=-0.1, theta_L=0.1, theta_R=1)\n",
        "(phi=1.8, theta_L=1, theta_R=0.2)\n",
        "(phi=2, theta_L=0.2, theta_R=0)\n",
        "(phi=3.14159265359, theta_L=0, theta_R=0)\n",
        "12\n"
       ]
      }
     ],
     "prompt_number": 3
    },
    {
     "cell_type": "code",
     "collapsed": false,
     "input": [
      "# create test for iteratively adding cliffs to the silhouette\n",
      "number_of_buildings = 500\n",
      "size = 0.03\n",
      "\n",
      "phi1_list = (np.random.rand(number_of_buildings) * 2 * np.pi) - np.pi\n",
      "phi1_list = np.sort(phi1_list)\n",
      "phi2_list = phi1_list + (np.random.rand(number_of_buildings) * np.pi * size)\n",
      "theta_list = np.random.rand(number_of_buildings) * np.pi /2\n",
      "\n",
      "# load it into a list of Roof instances\n",
      "roofs = []\n",
      "for i in range(0, number_of_buildings):\n",
      "    phi1 = phi1_list[i]\n",
      "    phi2 = phi2_list[i]\n",
      "    theta = theta_list[i]\n",
      "    \n",
      "    # add roofs only within [-pi, pi]\n",
      "    if phi1 > -np.pi and phi2 < np.pi:\n",
      "        roofs.append( Roof(phi1, phi2, theta) )\n",
      "    \n",
      "sil = Silhouette()\n",
      "for roof in roofs:\n",
      "    sil.add_roof(roof)\n",
      "sil.draw()"
     ],
     "language": "python",
     "metadata": {},
     "outputs": [
      {
       "metadata": {},
       "output_type": "display_data",
       "png": "[encoded data removed]",
       "text": [
        "<matplotlib.figure.Figure at 0x7f5686d50d50>"
       ]
      }
     ],
     "prompt_number": 4
    },
    {
     "cell_type": "code",
     "collapsed": false,
     "input": [],
     "language": "python",
     "metadata": {},
     "outputs": []
    },
    {
     "cell_type": "code",
     "collapsed": false,
     "input": [],
     "language": "python",
     "metadata": {},
     "outputs": []
    },
    {
     "cell_type": "code",
     "collapsed": false,
     "input": [],
     "language": "python",
     "metadata": {},
     "outputs": []
    },
    {
     "cell_type": "code",
     "collapsed": false,
     "input": [],
     "language": "python",
     "metadata": {},
     "outputs": []
    },
    {
     "cell_type": "code",
     "collapsed": false,
     "input": [],
     "language": "python",
     "metadata": {},
     "outputs": []
    },
    {
     "cell_type": "code",
     "collapsed": false,
     "input": [
      "# create test Silhouette instance\n",
      "number_of_test_points = 20\n",
      "my_cliffs = []\n",
      "phis = (np.random.rand(number_of_test_points) * 2 * np.pi) - np.pi\n",
      "phis = np.sort(phis)\n",
      "thetas = np.random.rand(number_of_test_points) * np.pi /2\n",
      "thetas = np.append(thetas, thetas[0])\n",
      "\n",
      "for i in range(0, number_of_test_points):\n",
      "    my_cliffs.append(Cliff(phis[i], thetas[i], thetas[i+1]))\n",
      "    \n",
      "sil = Silhouette(my_cliffs)\n",
      "\n",
      "sil.draw()"
     ],
     "language": "python",
     "metadata": {},
     "outputs": [
      {
       "ename": "TypeError",
       "evalue": "__init__() takes exactly 1 argument (2 given)",
       "output_type": "pyerr",
       "traceback": [
        "\u001b[0;31m---------------------------------------------------------------------------\u001b[0m\n\u001b[0;31mTypeError\u001b[0m                                 Traceback (most recent call last)",
        "\u001b[0;32m<ipython-input-5-2c4cc145ddbb>\u001b[0m in \u001b[0;36m<module>\u001b[0;34m()\u001b[0m\n\u001b[1;32m     10\u001b[0m     \u001b[0mmy_cliffs\u001b[0m\u001b[0;34m.\u001b[0m\u001b[0mappend\u001b[0m\u001b[0;34m(\u001b[0m\u001b[0mCliff\u001b[0m\u001b[0;34m(\u001b[0m\u001b[0mphis\u001b[0m\u001b[0;34m[\u001b[0m\u001b[0mi\u001b[0m\u001b[0;34m]\u001b[0m\u001b[0;34m,\u001b[0m \u001b[0mthetas\u001b[0m\u001b[0;34m[\u001b[0m\u001b[0mi\u001b[0m\u001b[0;34m]\u001b[0m\u001b[0;34m,\u001b[0m \u001b[0mthetas\u001b[0m\u001b[0;34m[\u001b[0m\u001b[0mi\u001b[0m\u001b[0;34m+\u001b[0m\u001b[0;36m1\u001b[0m\u001b[0;34m]\u001b[0m\u001b[0;34m)\u001b[0m\u001b[0;34m)\u001b[0m\u001b[0;34m\u001b[0m\u001b[0m\n\u001b[1;32m     11\u001b[0m \u001b[0;34m\u001b[0m\u001b[0m\n\u001b[0;32m---> 12\u001b[0;31m \u001b[0msil\u001b[0m \u001b[0;34m=\u001b[0m \u001b[0mSilhouette\u001b[0m\u001b[0;34m(\u001b[0m\u001b[0mmy_cliffs\u001b[0m\u001b[0;34m)\u001b[0m\u001b[0;34m\u001b[0m\u001b[0m\n\u001b[0m\u001b[1;32m     13\u001b[0m \u001b[0;34m\u001b[0m\u001b[0m\n\u001b[1;32m     14\u001b[0m \u001b[0msil\u001b[0m\u001b[0;34m.\u001b[0m\u001b[0mdraw\u001b[0m\u001b[0;34m(\u001b[0m\u001b[0;34m)\u001b[0m\u001b[0;34m\u001b[0m\u001b[0m\n",
        "\u001b[0;31mTypeError\u001b[0m: __init__() takes exactly 1 argument (2 given)"
       ]
      }
     ],
     "prompt_number": 5
    },
    {
     "cell_type": "code",
     "collapsed": false,
     "input": [],
     "language": "python",
     "metadata": {},
     "outputs": []
    },
    {
     "cell_type": "code",
     "collapsed": false,
     "input": [],
     "language": "python",
     "metadata": {},
     "outputs": []
    },
    {
     "cell_type": "code",
     "collapsed": false,
     "input": [],
     "language": "python",
     "metadata": {},
     "outputs": [],
     "prompt_number": 121
    },
    {
     "cell_type": "code",
     "collapsed": false,
     "input": [
      "arr = ['a', 'b', 'c']\n",
      "arr.insert(1,'x')\n",
      "print arr\n",
      "print sorted(arr, reverse=True)"
     ],
     "language": "python",
     "metadata": {},
     "outputs": [
      {
       "output_type": "stream",
       "stream": "stdout",
       "text": [
        "['a', 'x', 'b', 'c']\n",
        "['x', 'c', 'b', 'a']\n"
       ]
      }
     ],
     "prompt_number": 98
    },
    {
     "cell_type": "code",
     "collapsed": false,
     "input": [
      "arr[1:2]"
     ],
     "language": "python",
     "metadata": {},
     "outputs": [
      {
       "metadata": {},
       "output_type": "pyout",
       "prompt_number": 126,
       "text": [
        "['x']"
       ]
      }
     ],
     "prompt_number": 126
    },
    {
     "cell_type": "code",
     "collapsed": false,
     "input": [
      "arr.pop(1)"
     ],
     "language": "python",
     "metadata": {},
     "outputs": [
      {
       "metadata": {},
       "output_type": "pyout",
       "prompt_number": 129,
       "text": [
        "'x'"
       ]
      }
     ],
     "prompt_number": 129
    },
    {
     "cell_type": "code",
     "collapsed": false,
     "input": [
      "arr"
     ],
     "language": "python",
     "metadata": {},
     "outputs": [
      {
       "metadata": {},
       "output_type": "pyout",
       "prompt_number": 130,
       "text": [
        "['a', 'b', 'c']"
       ]
      }
     ],
     "prompt_number": 130
    },
    {
     "cell_type": "code",
     "collapsed": false,
     "input": [],
     "language": "python",
     "metadata": {},
     "outputs": []
    }
   ],
   "metadata": {}
  }
 ]
}