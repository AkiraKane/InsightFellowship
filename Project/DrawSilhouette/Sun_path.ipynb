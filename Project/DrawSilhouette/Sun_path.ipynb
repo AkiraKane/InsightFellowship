{
 "metadata": {
  "name": "",
  "signature": "sha256:08c0af5a39f30a66dba6a29ce219cd75208fcdef0c180a5a5491df3ab16aa630"
 },
 "nbformat": 3,
 "nbformat_minor": 0,
 "worksheets": [
  {
   "cells": [
    {
     "cell_type": "code",
     "collapsed": false,
     "input": [
      "%matplotlib inline\n",
      "from my_classes import *\n",
      "import datetime as dt"
     ],
     "language": "python",
     "metadata": {},
     "outputs": [],
     "prompt_number": 2
    },
    {
     "cell_type": "code",
     "collapsed": false,
     "input": [
      "con = mdb.connect('localhost', 'root', '123', 'Manhattan_buildings')"
     ],
     "language": "python",
     "metadata": {},
     "outputs": [],
     "prompt_number": 3
    },
    {
     "cell_type": "code",
     "collapsed": false,
     "input": [
      "# load basic geography of Manhattan\n",
      "with con:\n",
      "    cur = con.cursor()\n",
      "    cur.execute(\"SELECT * FROM Cities WHERE Name = 'New York Manhattan'\")\n",
      "    result = cur.fetchall()[0]\n",
      "    Earth_radius = result[2]\n",
      "    mean_lon = result[3]\n",
      "    mean_lat = result[4]"
     ],
     "language": "python",
     "metadata": {},
     "outputs": [],
     "prompt_number": 4
    },
    {
     "cell_type": "code",
     "collapsed": false,
     "input": [
      "def get_sun_vector(year, month, day):\n",
      "    # convert to datetime\n",
      "    date = dt.datetime(year, month, day)\n",
      "    start_date = dt.datetime(2000,1,1)\n",
      "\n",
      "    # the number of days from 1 Jan 2000\n",
      "    n = (date - start_date).days\n",
      "\n",
      "    # mean longitude of the Sun\n",
      "    L_deg = (280.460 + 0.9856474 * n) % 360\n",
      "\n",
      "    # mean anomaly of the Sun\n",
      "    g_deg = (357.528 + 0.9856003 * n) % 360\n",
      "    g_rad = g_deg * np.pi/180\n",
      "\n",
      "    # ecliptic longitude\n",
      "    lambda_deg = L_deg + 1.915 * np.sin(g_rad) + 0.020 * np.sin(2*g_rad)\n",
      "    lambda_rad = lambda_deg * np.pi/180\n",
      "\n",
      "    # obliquity of the ecliptic\n",
      "    eps_deg = 23.439 - 0.0000004 * n\n",
      "    eps_rad = eps_deg * np.pi/180\n",
      "\n",
      "    # right ascension\n",
      "    alpha_rad = np.arctan(np.cos(eps_rad) * np.tan(lambda_rad))\n",
      "    # needs to be in the same quadrant as lambda\n",
      "    if np.cos(alpha_rad) * np.cos(lambda_rad) < 0 or\\\n",
      "       np.sin(alpha_rad) * np.sin(lambda_rad) < 0:\n",
      "        alpha_rad = (alpha_rad + np.pi) % (2*np.pi)\n",
      "\n",
      "    # declination\n",
      "    delta_rad = np.arcsin(np.sin(eps_rad) * np.sin(lambda_rad))\n",
      "\n",
      "    # Sun's unit vector (in equatorial coordinates) for this day\n",
      "    u_sun = np.array([\n",
      "                np.cos(alpha_rad) * np.sin(delta_rad), \\\n",
      "                np.sin(alpha_rad) * np.sin(delta_rad), \\\n",
      "                np.cos(delta_rad)\n",
      "            ])\n",
      "    return u_sun"
     ],
     "language": "python",
     "metadata": {},
     "outputs": [],
     "prompt_number": 5
    },
    {
     "cell_type": "code",
     "collapsed": false,
     "input": [
      "# cities GPS coordinates\n",
      "def get_city_vectors(lat, lon, greenwich_time_minutes):\n",
      "\n",
      "    minute2deg = 360.0/1440.0\n",
      "\n",
      "    theta_city_deg = 90 - lat\n",
      "    theta_city_rad = theta_city_deg * np.pi/180\n",
      "\n",
      "    phi_city_deg = greenwich_time_minutes * minute2deg + lon\n",
      "    phi_city_rad = phi_city_deg * np.pi/180\n",
      "\n",
      "    # city's unit vector\n",
      "    u_r = np.array([\n",
      "                np.sin(theta_city_rad) * np.cos(phi_city_rad),\n",
      "                np.sin(theta_city_rad) * np.sin(phi_city_rad),\n",
      "                np.cos(theta_city_rad)\n",
      "            ])\n",
      "    u_theta = np.array([\n",
      "                np.cos(theta_city_rad) * np.cos(phi_city_rad),\n",
      "                np.cos(theta_city_rad) * np.sin(phi_city_rad),\n",
      "                -np.sin(theta_city_rad)\n",
      "            ])\n",
      "    u_phi = np.array([\n",
      "                -np.sin(phi_city_rad),\n",
      "                np.cos(phi_city_rad),\n",
      "                0\n",
      "            ])\n",
      "    return (u_r, u_theta, u_phi)"
     ],
     "language": "python",
     "metadata": {},
     "outputs": [],
     "prompt_number": 7
    },
    {
     "cell_type": "code",
     "collapsed": false,
     "input": [
      "# example\n",
      "year = 2015\n",
      "month = 7\n",
      "day = 17\n",
      "\n",
      "lat = 40.771803\n",
      "lon = -73.973351\n",
      "\n",
      "u_sun = get_sun_vector(year, month, day)\n",
      "\n",
      "phi_list = []\n",
      "theta_list = []\n",
      "\n",
      "for time in range(0, 1440):\n",
      "    (u_r, u_theta, u_phi) = get_city_vectors(lat, lon, time)\n",
      "    \n",
      "    # calculate height of the Sun on the sky\n",
      "    theta_rad = np.pi/2 - np.arccos( np.dot(u_r, u_sun) )\n",
      "    theta_list.append(theta_rad)\n",
      "    \n",
      "    # calculate projected Sun vector\n",
      "    u_sun_projected = u_sun - u_r * np.dot(u_r, u_sun)\n",
      "    u_sun_projected = u_sun_projected / np.sqrt(np.dot(u_sun_projected, u_sun_projected))\n",
      "    \n",
      "    # calculate azimuth of Sun\n",
      "    phi_rad = np.arccos( np.dot(u_sun_projected, u_theta) )\n",
      "    if np.dot(u_sun_projected, u_phi) > 0:\n",
      "        phi_rad *= -1\n",
      "    phi_list.append(phi_rad)\n",
      "\n",
      "plt.plot(phi_list, theta_list)"
     ],
     "language": "python",
     "metadata": {},
     "outputs": [
      {
       "metadata": {},
       "output_type": "pyout",
       "prompt_number": 15,
       "text": [
        "[<matplotlib.lines.Line2D at 0x7fbd50ad4750>]"
       ]
      },
      {
       "metadata": {},
       "output_type": "display_data",
       "png": "[encoded data removed]",
       "text": [
        "<matplotlib.figure.Figure at 0x7fbd50b2e450>"
       ]
      }
     ],
     "prompt_number": 15
    },
    {
     "cell_type": "code",
     "collapsed": false,
     "input": [
      "np.dot(u_sun_projected, u_sun_projected)"
     ],
     "language": "python",
     "metadata": {},
     "outputs": [
      {
       "metadata": {},
       "output_type": "pyout",
       "prompt_number": 14,
       "text": [
        "0.99999999999999989"
       ]
      }
     ],
     "prompt_number": 14
    },
    {
     "cell_type": "code",
     "collapsed": false,
     "input": [],
     "language": "python",
     "metadata": {},
     "outputs": []
    },
    {
     "cell_type": "code",
     "collapsed": false,
     "input": [],
     "language": "python",
     "metadata": {},
     "outputs": []
    }
   ],
   "metadata": {}
  }
 ]
}