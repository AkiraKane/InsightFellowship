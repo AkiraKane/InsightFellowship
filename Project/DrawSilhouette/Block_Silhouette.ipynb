{
 "metadata": {
  "name": "",
  "signature": "sha256:3083e51d12898b5dca5fe4bae1cedf211fdf7b16c26fa5d0312d0d18737535cf"
 },
 "nbformat": 3,
 "nbformat_minor": 0,
 "worksheets": [
  {
   "cells": [
    {
     "cell_type": "code",
     "collapsed": false,
     "input": [
      "%matplotlib inline\n",
      "import pymysql as mdb\n",
      "\n",
      "from buildingmapping import *\n",
      "from skyline import *\n",
      "from sun import *\n",
      "from observer import *\n"
     ],
     "language": "python",
     "metadata": {},
     "outputs": [],
     "prompt_number": 1
    },
    {
     "cell_type": "code",
     "collapsed": false,
     "input": [
      "con = mdb.connect('localhost', 'root', '123', 'Manhattan_buildings')"
     ],
     "language": "python",
     "metadata": {},
     "outputs": [],
     "prompt_number": 2
    },
    {
     "cell_type": "code",
     "collapsed": false,
     "input": [
      "# load basic geography of Manhattan\n",
      "with con:\n",
      "    cur = con.cursor()\n",
      "    cur.execute(\"SELECT * FROM Cities WHERE Name = 'New York Manhattan'\")\n",
      "    result = cur.fetchall()[0]\n",
      "    Earth_radius = result[2]\n",
      "    mean_lon = result[3]\n",
      "    mean_lat = result[4]\n",
      "  \n",
      "  # load grid data \n",
      "with con:\n",
      "    cur = con.cursor()\n",
      "    cur.execute(\"SELECT * FROM Grids WHERE Id = 1\")\n",
      "    result = cur.fetchall()[0]\n",
      "\n",
      "    x_min = result[1]\n",
      "    x_max = result[2]\n",
      "    x_step = result[3]\n",
      "    y_min = result[4]\n",
      "    y_max = result[5]\n",
      "    y_step = result[6]\n",
      "\n",
      "    x_grid = np.arange(x_min, x_max, x_step)\n",
      "    y_grid = np.arange(y_min, y_max, y_step)"
     ],
     "language": "python",
     "metadata": {},
     "outputs": [],
     "prompt_number": 3
    },
    {
     "cell_type": "code",
     "collapsed": false,
     "input": [
      "# for a test observer\n",
      "obs_lat = 40.704781\n",
      "obs_lon = -74.013752\n",
      "obs_z = 50\n",
      "\n",
      "# determine integer ids of block\n",
      "cart = convert_to_cartesian(obs_lon, obs_lat, mean_lon, mean_lat, Earth_radius)\n",
      "t = find_my_block(cart.x, cart.y, x_grid, y_grid)\n",
      "x_id = t[0]\n",
      "y_id = t[1]\n",
      "\n",
      "block_id = None\n",
      "with con: \n",
      "    cur = con.cursor()\n",
      "    # get block_id\n",
      "    cur.execute(\"SELECT Id\\\n",
      "                    FROM Blocks\\\n",
      "                    WHERE X_id = \" + str(x_id) + \"\\\n",
      "                    AND Y_id = \" + str(y_id) + \"\\\n",
      "    \")\n",
      "    result = cur.fetchall()\n",
      "    \n",
      "    if result:\n",
      "      block_id = result[0][0]\n",
      "      \n",
      "      # select all nodes in the block\n",
      "      cur.execute(\"SELECT X, Y, Z, \\\n",
      "                      Order_in_building,\\\n",
      "                      Number_of_nodes_in_building,\\\n",
      "                      Building_id \\\n",
      "                      FROM Nodes \\\n",
      "                      WHERE Block_id = \" + str(block_id) + \" \\\n",
      "                      AND Z > 0 \\\n",
      "      \")\n",
      "      rows = cur.fetchall()\n",
      "      \n",
      "      # load it into a dict of buildings\n",
      "      buildings = {}\n",
      "      i = 0\n",
      "      while i < len(rows):\n",
      "        \n",
      "        # find the first \"1\" in the Order_in_building column\n",
      "        if rows[i][3] == 1:\n",
      "          \n",
      "          building_id = rows[i][5]\n",
      "          building = Building()\n",
      "          \n",
      "          number_of_nodes = rows[i][4]\n",
      "          \n",
      "          # loop through the consecutive nodes\n",
      "          for j in range(0, number_of_nodes):\n",
      "            i_cursor = i + j\n",
      "            x = rows[i_cursor][0]\n",
      "            y = rows[i_cursor][1]\n",
      "            building.nodes.append(Node(x,y))\n",
      "          \n",
      "          z = rows[i_cursor][2]\n",
      "          building.z = z\n",
      "          building.calculate_center()\n",
      "          \n",
      "          buildings[building_id] = building\n",
      "          \n",
      "          i += number_of_nodes\n",
      "        else:\n",
      "          i += 1\n"
     ],
     "language": "python",
     "metadata": {},
     "outputs": [
      {
       "ename": "NameError",
       "evalue": "name 'convert_to_cartesian' is not defined",
       "output_type": "pyerr",
       "traceback": [
        "\u001b[0;31m---------------------------------------------------------------------------\u001b[0m\n\u001b[0;31mNameError\u001b[0m                                 Traceback (most recent call last)",
        "\u001b[0;32m<ipython-input-4-abcb01fcb066>\u001b[0m in \u001b[0;36m<module>\u001b[0;34m()\u001b[0m\n\u001b[1;32m      5\u001b[0m \u001b[0;34m\u001b[0m\u001b[0m\n\u001b[1;32m      6\u001b[0m \u001b[0;31m# determine integer ids of block\u001b[0m\u001b[0;34m\u001b[0m\u001b[0;34m\u001b[0m\u001b[0m\n\u001b[0;32m----> 7\u001b[0;31m \u001b[0mcart\u001b[0m \u001b[0;34m=\u001b[0m \u001b[0mconvert_to_cartesian\u001b[0m\u001b[0;34m(\u001b[0m\u001b[0mobs_lon\u001b[0m\u001b[0;34m,\u001b[0m \u001b[0mobs_lat\u001b[0m\u001b[0;34m,\u001b[0m \u001b[0mmean_lon\u001b[0m\u001b[0;34m,\u001b[0m \u001b[0mmean_lat\u001b[0m\u001b[0;34m,\u001b[0m \u001b[0mEarth_radius\u001b[0m\u001b[0;34m)\u001b[0m\u001b[0;34m\u001b[0m\u001b[0m\n\u001b[0m\u001b[1;32m      8\u001b[0m \u001b[0mt\u001b[0m \u001b[0;34m=\u001b[0m \u001b[0mfind_my_block\u001b[0m\u001b[0;34m(\u001b[0m\u001b[0mcart\u001b[0m\u001b[0;34m.\u001b[0m\u001b[0mx\u001b[0m\u001b[0;34m,\u001b[0m \u001b[0mcart\u001b[0m\u001b[0;34m.\u001b[0m\u001b[0my\u001b[0m\u001b[0;34m,\u001b[0m \u001b[0mx_grid\u001b[0m\u001b[0;34m,\u001b[0m \u001b[0my_grid\u001b[0m\u001b[0;34m)\u001b[0m\u001b[0;34m\u001b[0m\u001b[0m\n\u001b[1;32m      9\u001b[0m \u001b[0mx_id\u001b[0m \u001b[0;34m=\u001b[0m \u001b[0mt\u001b[0m\u001b[0;34m[\u001b[0m\u001b[0;36m0\u001b[0m\u001b[0;34m]\u001b[0m\u001b[0;34m\u001b[0m\u001b[0m\n",
        "\u001b[0;31mNameError\u001b[0m: name 'convert_to_cartesian' is not defined"
       ]
      }
     ],
     "prompt_number": 4
    },
    {
     "cell_type": "code",
     "collapsed": false,
     "input": [
      "fig = plt.figure()\n",
      "ax = fig.add_subplot(111)\n",
      "\n",
      "# calculate silhouette\n",
      "sil = Silhouette()\n",
      "for key in buildings:\n",
      "    if buildings[key].z > obs_z:\n",
      "        roofs = get_roofs(cart.x, cart.y, obs_z, buildings[key])\n",
      "        for roof in roofs:\n",
      "            sil.add_roof(roof)\n",
      "\n",
      "# calculate sun\n",
      "request_date = dt.datetime.today()\n",
      "request_date += dt.timedelta(weeks=52)\n",
      "\n",
      "sun = Sun_path(request_date, mean_lat, mean_lon)\n",
      "sun.calculate_path()\n",
      "v = sun.calculate_visibility(sil)\n",
      "message = str(v[0]) + ' min sunny / ' + str(v[1]) + ' min total'\n",
      "print message\n",
      "\n",
      "sun.draw(ax)       \n",
      "sil.draw(ax)\n",
      "\n",
      "plt.text(-50, 80, message)\n",
      "\n",
      "ax.set_ylim([0, 90])\n",
      "ax.set_xlim([-180, 180])\n",
      "ax.set_aspect('equal', adjustable='box')\n",
      "fig.set_size_inches(10, 2.5)\n",
      "        "
     ],
     "language": "python",
     "metadata": {},
     "outputs": [
      {
       "output_type": "stream",
       "stream": "stdout",
       "text": [
        "575 min sunny / 871 min total\n"
       ]
      },
      {
       "metadata": {},
       "output_type": "display_data",
       "png": "[encoded data removed]",
       "text": [
        "<matplotlib.figure.Figure at 0x7f5d10144690>"
       ]
      }
     ],
     "prompt_number": 5
    },
    {
     "cell_type": "code",
     "collapsed": false,
     "input": [
      "len(sun.positions)"
     ],
     "language": "python",
     "metadata": {},
     "outputs": [
      {
       "metadata": {},
       "output_type": "pyout",
       "prompt_number": 35,
       "text": [
        "877"
       ]
      }
     ],
     "prompt_number": 35
    },
    {
     "cell_type": "code",
     "collapsed": false,
     "input": [],
     "language": "python",
     "metadata": {},
     "outputs": []
    }
   ],
   "metadata": {}
  }
 ]
}