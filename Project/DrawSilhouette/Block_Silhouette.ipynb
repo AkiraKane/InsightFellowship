{
 "metadata": {
  "name": "",
  "signature": "sha256:380601f793574db0a6ef29a9c3f3ca9689b338faf066f01658e2d2383edefd35"
 },
 "nbformat": 3,
 "nbformat_minor": 0,
 "worksheets": [
  {
   "cells": [
    {
     "cell_type": "code",
     "collapsed": false,
     "input": [
      "%matplotlib inline\n",
      "from my_classes import *"
     ],
     "language": "python",
     "metadata": {},
     "outputs": [],
     "prompt_number": 24
    },
    {
     "cell_type": "code",
     "collapsed": false,
     "input": [
      "con = mdb.connect('localhost', 'root', '123', 'Manhattan_buildings')"
     ],
     "language": "python",
     "metadata": {},
     "outputs": [],
     "prompt_number": 25
    },
    {
     "cell_type": "code",
     "collapsed": false,
     "input": [
      "# load basic geography of Manhattan\n",
      "with con:\n",
      "    cur = con.cursor()\n",
      "    cur.execute(\"SELECT * FROM Cities WHERE Name = 'New York Manhattan'\")\n",
      "    result = cur.fetchall()[0]\n",
      "    Earth_radius = result[2]\n",
      "    mean_lon = result[3]\n",
      "    mean_lat = result[4]\n",
      "  \n",
      "  # load grid data \n",
      "with con:\n",
      "    cur = con.cursor()\n",
      "    cur.execute(\"SELECT * FROM Grids WHERE Id = 1\")\n",
      "    result = cur.fetchall()[0]\n",
      "\n",
      "    x_min = result[1]\n",
      "    x_max = result[2]\n",
      "    x_step = result[3]\n",
      "    y_min = result[4]\n",
      "    y_max = result[5]\n",
      "    y_step = result[6]\n",
      "\n",
      "    x_grid = np.arange(x_min, x_max, x_step)\n",
      "    y_grid = np.arange(y_min, y_max, y_step)"
     ],
     "language": "python",
     "metadata": {},
     "outputs": [],
     "prompt_number": 26
    },
    {
     "cell_type": "code",
     "collapsed": false,
     "input": [
      "# for a test observer\n",
      "obs_lat = 40.711604 \n",
      "obs_lon = -74.013638\n",
      "obs_z = 200\n",
      "\n",
      "# determine integer ids of block\n",
      "cart = convert_to_cartesian(obs_lon, obs_lat, mean_lon, mean_lat, Earth_radius)\n",
      "t = find_my_block(cart.x, cart.y, x_grid, y_grid)\n",
      "x_id = t[0]\n",
      "y_id = t[1]\n",
      "\n",
      "block_id = None\n",
      "with con: \n",
      "    cur = con.cursor()\n",
      "    # get block_id\n",
      "    cur.execute(\"SELECT Id\\\n",
      "                    FROM Blocks\\\n",
      "                    WHERE X_id = \" + str(x_id) + \"\\\n",
      "                    AND Y_id = \" + str(y_id) + \"\\\n",
      "    \")\n",
      "    result = cur.fetchall()\n",
      "    \n",
      "    if result:\n",
      "      block_id = result[0][0]\n",
      "      \n",
      "      # select all nodes in the block\n",
      "      cur.execute(\"SELECT X, Y, Z, \\\n",
      "                      Order_in_building,\\\n",
      "                      Number_of_nodes_in_building,\\\n",
      "                      Building_id \\\n",
      "                      FROM Nodes \\\n",
      "                      WHERE Block_id = \" + str(block_id) + \" \\\n",
      "                      AND Z > 0 \\\n",
      "      \")\n",
      "      rows = cur.fetchall()\n",
      "      \n",
      "      # load it into a dict of buildings\n",
      "      buildings = {}\n",
      "      i = 0\n",
      "      while i < len(rows):\n",
      "        \n",
      "        # find the first \"1\" in the Order_in_building column\n",
      "        if rows[i][3] == 1:\n",
      "          \n",
      "          building_id = rows[i][5]\n",
      "          building = Building()\n",
      "          \n",
      "          number_of_nodes = rows[i][4]\n",
      "          \n",
      "          # loop through the consecutive nodes\n",
      "          for j in range(0, number_of_nodes):\n",
      "            i_cursor = i + j\n",
      "            x = rows[i_cursor][0]\n",
      "            y = rows[i_cursor][1]\n",
      "            building.nodes.append(Node(x,y))\n",
      "          \n",
      "          z = rows[i_cursor][2]\n",
      "          building.z = z\n",
      "          building.calculate_center()\n",
      "          \n",
      "          buildings[building_id] = building\n",
      "          \n",
      "          i += number_of_nodes\n",
      "        else:\n",
      "          i += 1\n"
     ],
     "language": "python",
     "metadata": {},
     "outputs": [],
     "prompt_number": 37
    },
    {
     "cell_type": "code",
     "collapsed": false,
     "input": [
      "number_of_nodes = 0\n",
      "for key in buildings:\n",
      "    number_of_nodes += len(buildings[key].nodes)\n",
      "print number_of_nodes"
     ],
     "language": "python",
     "metadata": {},
     "outputs": [
      {
       "output_type": "stream",
       "stream": "stdout",
       "text": [
        "1249\n"
       ]
      }
     ],
     "prompt_number": 38
    },
    {
     "cell_type": "code",
     "collapsed": false,
     "input": [
      "# initialize empty silhouette\n",
      "sil = Silhouette()\n",
      "\n",
      "for key in buildings:\n",
      "    if buildings[key].z > obs_z:\n",
      "        roofs = get_roofs(cart.x, cart.y, obs_z, buildings[key])\n",
      "        for roof in roofs:\n",
      "            sil.add_roof(roof)\n",
      "\n",
      "        \n",
      "sil.draw()\n"
     ],
     "language": "python",
     "metadata": {},
     "outputs": [
      {
       "metadata": {},
       "output_type": "display_data",
       "png": "[encoded data removed]",
       "text": [
        "<matplotlib.figure.Figure at 0x7f6b06eb2690>"
       ]
      }
     ],
     "prompt_number": 40
    },
    {
     "cell_type": "code",
     "collapsed": false,
     "input": [],
     "language": "python",
     "metadata": {},
     "outputs": []
    }
   ],
   "metadata": {}
  }
 ]
}