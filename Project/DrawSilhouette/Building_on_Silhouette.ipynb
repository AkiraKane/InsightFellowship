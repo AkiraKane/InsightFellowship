{
 "metadata": {
  "name": "",
  "signature": "sha256:20a192947c0edbdfcad1cbde46b5d6941cb2ba2ff765f48de17ad5eb8833b2a4"
 },
 "nbformat": 3,
 "nbformat_minor": 0,
 "worksheets": [
  {
   "cells": [
    {
     "cell_type": "code",
     "collapsed": false,
     "input": [
      "%matplotlib inline\n",
      "from my_classes import *"
     ],
     "language": "python",
     "metadata": {},
     "outputs": [],
     "prompt_number": 1
    },
    {
     "cell_type": "code",
     "collapsed": false,
     "input": [
      "def get_phi_theta(obs_x, obs_y, obs_z, node, height):\n",
      "    dx = node.x - obs_x\n",
      "    dy = node.y - obs_y\n",
      "    dz = height - obs_z\n",
      "    xy_dist = np.sqrt(dx**2 + dy**2)\n",
      "    theta = np.arctan(dz/xy_dist)\n",
      "    phi = -np.arctan2(dx, -dy)\n",
      "        \n",
      "    return (phi, theta)"
     ],
     "language": "python",
     "metadata": {},
     "outputs": [],
     "prompt_number": 2
    },
    {
     "cell_type": "code",
     "collapsed": false,
     "input": [
      "def get_roofs(obs_x, obs_y, obs_z, building, blur_epsilon=0.01):\n",
      "    roofs = []\n",
      "    \n",
      "    phi_list = []\n",
      "    theta_list = []\n",
      "    for node in building.nodes:\n",
      "        (phi, theta) = get_phi_theta(obs_x, obs_y, obs_z, node, building.z)\n",
      "        phi_list.append(phi)\n",
      "        theta_list.append(theta)\n",
      "    \n",
      "    for i in range(0, len(phi_list)-1):\n",
      "        theta = np.mean([theta_list[i], theta_list[i+1]])\n",
      "        phi1 = phi_list[i]\n",
      "        phi2 = phi_list[i+1]\n",
      "        if phi1 < phi2:\n",
      "            phi1 -= blur_epsilon\n",
      "            phi2 += blur_epsilon\n",
      "            roofs.append( Roof(phi1, phi2, theta) )\n",
      "        else:\n",
      "            phi1 += blur_epsilon\n",
      "            phi2 -= blur_epsilon\n",
      "            roofs.append( Roof(phi2, phi1, theta) )\n",
      "            \n",
      "    return roofs"
     ],
     "language": "python",
     "metadata": {},
     "outputs": [],
     "prompt_number": 3
    },
    {
     "cell_type": "code",
     "collapsed": false,
     "input": [
      "# create test building\n",
      "height = 10\n",
      "nodes = [Node(0,0),\\\n",
      "         Node(1,0),\\\n",
      "         Node(1,2),\\\n",
      "         Node(3,2),\\\n",
      "         Node(3,1),\\\n",
      "         Node(4,1),\\\n",
      "         Node(4,3),\\\n",
      "         Node(0,3),\\\n",
      "         Node(0,0)]\n",
      "\n",
      "building = Building()\n",
      "for node in nodes:\n",
      "    building.nodes.append(node)\n",
      "building.z = height\n",
      "\n",
      "# observer\n",
      "x = 2\n",
      "y = 3.1\n",
      "z = 0\n",
      "\n",
      "# construct the silhouette\n",
      "sil = Silhouette()\n",
      "roofs = get_roofs(x, y, z, building)\n",
      "for roof in roofs:\n",
      "    sil.add_roof(roof)\n",
      "sil.draw()\n",
      "for cliff in sil.cliffs:\n",
      "    cliff.show()"
     ],
     "language": "python",
     "metadata": {},
     "outputs": [
      {
       "metadata": {},
       "output_type": "display_data",
       "png": "[encoded data removed]",
       "text": [
        "<matplotlib.figure.Figure at 0x7f27604162d0>"
       ]
      },
      {
       "output_type": "stream",
       "stream": "stdout",
       "text": [
        "(phi=-3.14159265359, theta_L=0, theta_R=0)\n",
        "(phi=-1.53083793107, theta_L=0, theta_R=1.37316054393)\n",
        "(phi=-0.74781506012, theta_L=1.37316054393, theta_R=1.38274104032)\n",
        "(phi=-0.74781506012, theta_L=1.38274104032, theta_R=1.42321647694)\n",
        "(phi=0.74781506012, theta_L=1.42321647694, theta_R=1.37316054393)\n",
        "(phi=1.53083793107, theta_L=1.37316054393, theta_R=0)\n",
        "(phi=3.14159265359, theta_L=0, theta_R=0)\n"
       ]
      }
     ],
     "prompt_number": 18
    },
    {
     "cell_type": "code",
     "collapsed": false,
     "input": [],
     "language": "python",
     "metadata": {},
     "outputs": []
    },
    {
     "cell_type": "code",
     "collapsed": false,
     "input": [
      "np.arctan(-1) * 180/np.pi"
     ],
     "language": "python",
     "metadata": {},
     "outputs": [
      {
       "metadata": {},
       "output_type": "pyout",
       "prompt_number": 7,
       "text": [
        "-45.0"
       ]
      }
     ],
     "prompt_number": 7
    },
    {
     "cell_type": "code",
     "collapsed": false,
     "input": [
      "abs(-1.2)"
     ],
     "language": "python",
     "metadata": {},
     "outputs": [
      {
       "metadata": {},
       "output_type": "pyout",
       "prompt_number": 8,
       "text": [
        "1.2"
       ]
      }
     ],
     "prompt_number": 8
    },
    {
     "cell_type": "code",
     "collapsed": false,
     "input": [
      "# create test for iteratively adding cliffs to the silhouette\n",
      "number_of_buildings = 50\n",
      "\n",
      "phi1_list = (np.random.rand(number_of_buildings) * 2 * np.pi) - np.pi\n",
      "phi1_list = np.sort(phi1_list)\n",
      "phi2_list = phi1_list + (np.random.rand(number_of_buildings) * np.pi/5)\n",
      "theta_list = np.random.rand(number_of_buildings) * np.pi /2\n",
      "\n",
      "# load it into a list of Roof instances\n",
      "roofs = []\n",
      "for i in range(0, number_of_buildings):\n",
      "    phi1 = phi1_list[i]\n",
      "    phi2 = phi2_list[i]\n",
      "    theta = theta_list[i]\n",
      "    \n",
      "    # add roofs only within [-pi, pi]\n",
      "    if phi1 > -np.pi and phi2 < np.pi:\n",
      "        roofs.append( Roof(phi1, phi2, theta) )\n",
      "    \n",
      "sil = Silhouette()\n",
      "for roof in roofs:\n",
      "    sil.add_roof(roof)\n",
      "sil.draw()"
     ],
     "language": "python",
     "metadata": {},
     "outputs": [
      {
       "metadata": {},
       "output_type": "display_data",
       "png": "[encoded data removed]",
       "text": [
        "<matplotlib.figure.Figure at 0x7f22a4497ad0>"
       ]
      }
     ],
     "prompt_number": 2
    },
    {
     "cell_type": "code",
     "collapsed": false,
     "input": [
      "max(1,-123)"
     ],
     "language": "python",
     "metadata": {},
     "outputs": [
      {
       "metadata": {},
       "output_type": "pyout",
       "prompt_number": 52,
       "text": [
        "1"
       ]
      }
     ],
     "prompt_number": 52
    },
    {
     "cell_type": "code",
     "collapsed": false,
     "input": [],
     "language": "python",
     "metadata": {},
     "outputs": []
    }
   ],
   "metadata": {}
  }
 ]
}