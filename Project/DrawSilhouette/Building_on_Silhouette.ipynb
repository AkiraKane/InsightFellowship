{
 "metadata": {
  "name": "",
  "signature": "sha256:464d6395ba15cc39ad2cfee401a32ff7f8f76067becbc9e1c27904c2b4da1747"
 },
 "nbformat": 3,
 "nbformat_minor": 0,
 "worksheets": [
  {
   "cells": [
    {
     "cell_type": "code",
     "collapsed": false,
     "input": [
      "%matplotlib inline\n",
      "from my_classes import *"
     ],
     "language": "python",
     "metadata": {},
     "outputs": [],
     "prompt_number": 1
    },
    {
     "cell_type": "code",
     "collapsed": false,
     "input": [
      "# create test building\n",
      "height = 10\n",
      "nodes = [Node(0,0),\\\n",
      "         Node(1,0),\\\n",
      "         Node(1,2),\\\n",
      "         Node(3,2),\\\n",
      "         Node(3,1),\\\n",
      "         Node(4,1),\\\n",
      "         Node(4,3),\\\n",
      "         Node(0,3),\\\n",
      "         Node(0,0)]\n",
      "\n",
      "building = Building()\n",
      "for node in nodes:\n",
      "    building.nodes.append(node)\n",
      "building.z = height\n",
      "\n",
      "# observer\n",
      "x = 2\n",
      "y = -2\n",
      "z = 0\n",
      "\n",
      "# construct the silhouette\n",
      "sil = Silhouette()\n",
      "roofs = get_roofs(x, y, z, building)\n",
      "for roof in roofs:\n",
      "    sil.add_roof(roof)\n",
      "sil.draw()\n",
      "# for cliff in sil.cliffs:\n",
      "#     cliff.show()"
     ],
     "language": "python",
     "metadata": {},
     "outputs": [
      {
       "metadata": {},
       "output_type": "display_data",
       "png": "[encoded data removed]",
       "text": [
        "<matplotlib.figure.Figure at 0x7f9f48100f50>"
       ]
      }
     ],
     "prompt_number": 3
    },
    {
     "cell_type": "code",
     "collapsed": false,
     "input": [],
     "language": "python",
     "metadata": {},
     "outputs": []
    },
    {
     "cell_type": "code",
     "collapsed": false,
     "input": [],
     "language": "python",
     "metadata": {},
     "outputs": []
    },
    {
     "cell_type": "code",
     "collapsed": false,
     "input": [],
     "language": "python",
     "metadata": {},
     "outputs": []
    },
    {
     "cell_type": "code",
     "collapsed": false,
     "input": [
      "# create test for iteratively adding cliffs to the silhouette\n",
      "number_of_buildings = 50\n",
      "\n",
      "phi1_list = (np.random.rand(number_of_buildings) * 2 * np.pi) - np.pi\n",
      "phi1_list = np.sort(phi1_list)\n",
      "phi2_list = phi1_list + (np.random.rand(number_of_buildings) * np.pi/5)\n",
      "theta_list = np.random.rand(number_of_buildings) * np.pi /2\n",
      "\n",
      "# load it into a list of Roof instances\n",
      "roofs = []\n",
      "for i in range(0, number_of_buildings):\n",
      "    phi1 = phi1_list[i]\n",
      "    phi2 = phi2_list[i]\n",
      "    theta = theta_list[i]\n",
      "    \n",
      "    # add roofs only within [-pi, pi]\n",
      "    if phi1 > -np.pi and phi2 < np.pi:\n",
      "        roofs.append( Roof(phi1, phi2, theta) )\n",
      "    \n",
      "sil = Silhouette()\n",
      "for roof in roofs:\n",
      "    sil.add_roof(roof)\n",
      "sil.draw()"
     ],
     "language": "python",
     "metadata": {},
     "outputs": [
      {
       "metadata": {},
       "output_type": "display_data",
       "png": "[encoded data removed]",
       "text": [
        "<matplotlib.figure.Figure at 0x7f22a4497ad0>"
       ]
      }
     ],
     "prompt_number": 2
    },
    {
     "cell_type": "code",
     "collapsed": false,
     "input": [
      "max(1,-123)"
     ],
     "language": "python",
     "metadata": {},
     "outputs": [
      {
       "metadata": {},
       "output_type": "pyout",
       "prompt_number": 52,
       "text": [
        "1"
       ]
      }
     ],
     "prompt_number": 52
    },
    {
     "cell_type": "code",
     "collapsed": false,
     "input": [],
     "language": "python",
     "metadata": {},
     "outputs": []
    }
   ],
   "metadata": {}
  }
 ]
}