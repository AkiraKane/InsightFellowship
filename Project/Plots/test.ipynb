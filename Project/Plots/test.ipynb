{
 "metadata": {
  "name": "",
  "signature": "sha256:45aae61971bfaa011e318e25d4cd67377fb256c590d6f78aa5bfeb1510973e6a"
 },
 "nbformat": 3,
 "nbformat_minor": 0,
 "worksheets": [
  {
   "cells": [
    {
     "cell_type": "code",
     "collapsed": false,
     "input": [
      "%matplotlib inline\n",
      "import pymysql as mdb\n",
      "from buildingmapping import *\n",
      "from skyline import *\n",
      "from sun import *\n",
      "from observer import *\n"
     ],
     "language": "python",
     "metadata": {},
     "outputs": [],
     "prompt_number": 1
    },
    {
     "cell_type": "code",
     "collapsed": false,
     "input": [
      "obs = Observer()\n",
      "sil = Silhouette()\n",
      "sun = SunPath()\n",
      "buildings = {}\n",
      "x_grid = None\n",
      "y_grid = None\n",
      "con = mdb.connect('localhost', 'root', '123', 'Manhattan_buildings')\n",
      "obs.load_basic_geography(con)\n",
      "(x_grid, y_grid) = load_grid_data(con)\n",
      "address = \"40.7049687,-74.0145948\"\n",
      "floor = \"0\"\n",
      "day_of_year = \"6/23\"\n",
      "obs.get_geocoordinates(address, floor)\n",
      "obs.convert_to_cartesian()\n",
      "obs.find_my_block(x_grid, y_grid)\n",
      "\n",
      "sun.get_date(day_of_year)\n",
      "sun.lat = obs.lat\n",
      "sun.lon = obs.lon\n",
      "\n",
      "# get all buildings in the proposed list of blocks\n",
      "buildings.clear()\n",
      "(x_id_list, y_id_list) = obs.get_neighboring_block_ids()\n",
      "for i in range(0, len(x_id_list)):\n",
      "    buildings.update(\\\n",
      "        append_buildings_in_block(con, x_id_list[i], y_id_list[i])\\\n",
      "    )\n",
      "\n",
      "# add roofs of the buildigns to sil\n",
      "sil.cliffs = Silhouette().cliffs\n",
      "for key in buildings:\n",
      "    if buildings[key].z > obs.z:\n",
      "        roofs = buildings[key].get_roofs(obs.x, obs.y, obs.z)\n",
      "        for tup in roofs:\n",
      "            sil.add_roof( Roof(tup) )\n",
      "\n",
      "sun.positions = []\n",
      "sun.calculate_path()\n",
      "\n",
      "sun.visible = []\n",
      "v = sun.calculate_visibility(sil)\n",
      "message = str(v[0]) + ' min sunny / ' + str(v[1]) + ' min total'\n"
     ],
     "language": "python",
     "metadata": {},
     "outputs": [],
     "prompt_number": 2
    },
    {
     "cell_type": "code",
     "collapsed": false,
     "input": [
      "fig = plt.figure()\n",
      "# ax = fig.add_subplot(111)\n",
      "ax = fig.add_axes([0,0,1,1])\n",
      "for key in buildings:\n",
      "    if buildings[key].z > obs.z:    # plot only if building is taller than observer\n",
      "        if buildings[key].z < 20:\n",
      "            color = 'k'\n",
      "        elif buildings[key].z < 50:\n",
      "            color = 'b'\n",
      "        elif buildings[key].z < 100:\n",
      "            color = 'g'\n",
      "        elif buildings[key].z < 200:\n",
      "            color = 'r'\n",
      "        else:\n",
      "            color = 'y'\n",
      "\n",
      "        buildings[key].plot_footprint(ax, color) \n",
      "\n",
      "obs.plot_observers_location(ax, color='k')\n",
      "\n",
      "L = 100\n",
      "ax.set_xlim([obs.x-L, obs.x+L])\n",
      "ax.set_ylim([obs.y-L, obs.y+L])    \n",
      "ax.xaxis.set_visible(False)\n",
      "ax.yaxis.set_visible(False)    \n",
      "\n",
      "ax.set_aspect('equal')\n",
      "fig.set_size_inches(5, 5)\n"
     ],
     "language": "python",
     "metadata": {},
     "outputs": [
      {
       "metadata": {},
       "output_type": "display_data",
       "png": "[encoded data removed]",
       "text": [
        "<matplotlib.figure.Figure at 0x7f4cb55df710>"
       ]
      }
     ],
     "prompt_number": 3
    },
    {
     "cell_type": "code",
     "collapsed": false,
     "input": [
      "b = obs.get_my_building(buildings)"
     ],
     "language": "python",
     "metadata": {},
     "outputs": [],
     "prompt_number": 4
    },
    {
     "cell_type": "code",
     "collapsed": false,
     "input": [
      "fig = plt.figure()\n",
      "# ax = fig.add_subplot(111)\n",
      "ax = fig.add_axes([0,0,1,1])\n",
      "b.plot_footprint(ax)\n",
      "obs.plot_observers_location(ax)"
     ],
     "language": "python",
     "metadata": {},
     "outputs": [
      {
       "metadata": {},
       "output_type": "display_data",
       "png": "[encoded data removed]",
       "text": [
        "<matplotlib.figure.Figure at 0x7f4caf799e10>"
       ]
      }
     ],
     "prompt_number": 6
    },
    {
     "cell_type": "code",
     "collapsed": false,
     "input": [
      "node = Node(3,4)\n",
      "poly = []\n",
      "poly.append((node.x, node.y))"
     ],
     "language": "python",
     "metadata": {},
     "outputs": [],
     "prompt_number": 9
    },
    {
     "cell_type": "code",
     "collapsed": false,
     "input": [
      "poly"
     ],
     "language": "python",
     "metadata": {},
     "outputs": [
      {
       "metadata": {},
       "output_type": "pyout",
       "prompt_number": 10,
       "text": [
        "[(3, 4)]"
       ]
      }
     ],
     "prompt_number": 10
    },
    {
     "cell_type": "code",
     "collapsed": false,
     "input": [
      "b = {}"
     ],
     "language": "python",
     "metadata": {},
     "outputs": [],
     "prompt_number": 7
    },
    {
     "cell_type": "code",
     "collapsed": false,
     "input": [
      "b.clear()"
     ],
     "language": "python",
     "metadata": {},
     "outputs": [],
     "prompt_number": 8
    },
    {
     "cell_type": "code",
     "collapsed": false,
     "input": [
      "b"
     ],
     "language": "python",
     "metadata": {},
     "outputs": [
      {
       "metadata": {},
       "output_type": "pyout",
       "prompt_number": 9,
       "text": [
        "{}"
       ]
      }
     ],
     "prompt_number": 9
    },
    {
     "cell_type": "code",
     "collapsed": false,
     "input": [
      "b[\"a\"] = 1"
     ],
     "language": "python",
     "metadata": {},
     "outputs": [],
     "prompt_number": 10
    },
    {
     "cell_type": "code",
     "collapsed": false,
     "input": [
      "b"
     ],
     "language": "python",
     "metadata": {},
     "outputs": [
      {
       "metadata": {},
       "output_type": "pyout",
       "prompt_number": 11,
       "text": [
        "{'a': 1}"
       ]
      }
     ],
     "prompt_number": 11
    },
    {
     "cell_type": "code",
     "collapsed": false,
     "input": [
      "b.clear()"
     ],
     "language": "python",
     "metadata": {},
     "outputs": [],
     "prompt_number": 12
    },
    {
     "cell_type": "code",
     "collapsed": false,
     "input": [],
     "language": "python",
     "metadata": {},
     "outputs": []
    }
   ],
   "metadata": {}
  }
 ]
}