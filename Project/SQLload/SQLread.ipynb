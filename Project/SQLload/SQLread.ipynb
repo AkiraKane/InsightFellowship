{
 "metadata": {
  "name": "",
  "signature": "sha256:70b4fabffedc5dca0aad4bdab73d931f92895662a1525c8b4cd691feee3b14b9"
 },
 "nbformat": 3,
 "nbformat_minor": 0,
 "worksheets": [
  {
   "cells": [
    {
     "cell_type": "code",
     "collapsed": false,
     "input": [
      "%matplotlib inline\n",
      "from my_classes import *"
     ],
     "language": "python",
     "metadata": {},
     "outputs": [],
     "prompt_number": 1
    },
    {
     "cell_type": "code",
     "collapsed": false,
     "input": [
      "# convert (lon,lat) to (x,y) on the local map\n",
      "def convert_to_cartesian(lon, lat, mean_lon, mean_lat, Earth_radius):\n",
      "    deg2rad = np.pi/180\n",
      "    cos_mean_lat = np.cos(mean_lat * deg2rad)\n",
      "    x = Earth_radius * cos_mean_lat * (lon - mean_lon)* deg2rad\n",
      "    y = Earth_radius * (lat - mean_lat)* deg2rad\n",
      "    return Node(x,y)"
     ],
     "language": "python",
     "metadata": {},
     "outputs": [],
     "prompt_number": 2
    },
    {
     "cell_type": "code",
     "collapsed": false,
     "input": [
      "# finds the block the Node(x,y) coordinates are in\n",
      "# (blocks are indexed by (x_index, y_index), starting from (0,0) )\n",
      "def find_my_block(x_my, y_my, x_grid, y_grid):\n",
      "    # find x_index of the block\n",
      "    x_index = -1\n",
      "    for x in x_grid:\n",
      "        if x_my > x:\n",
      "            x_index += 1\n",
      "        else:\n",
      "            break\n",
      "    \n",
      "    # find y_index of the block\n",
      "    y_index = -1\n",
      "    for y in y_grid:\n",
      "        if y_my > y:\n",
      "            y_index += 1\n",
      "        else:\n",
      "            break\n",
      "    \n",
      "    return (x_index, y_index)"
     ],
     "language": "python",
     "metadata": {},
     "outputs": [],
     "prompt_number": 11
    },
    {
     "cell_type": "code",
     "collapsed": false,
     "input": [
      "con = mdb.connect('localhost', 'root', '123', 'Manhattan_buildings')"
     ],
     "language": "python",
     "metadata": {},
     "outputs": [],
     "prompt_number": 4
    },
    {
     "cell_type": "code",
     "collapsed": false,
     "input": [
      "# load basic geography of Manhattan\n",
      "with con:\n",
      "    cur = con.cursor()\n",
      "    cur.execute(\"SELECT * FROM Cities WHERE Name = 'New York Manhattan'\")\n",
      "    result = cur.fetchall()[0]\n",
      "    \n",
      "Earth_radius = result[2]\n",
      "mean_lon = result[3]\n",
      "mean_lat = result[4]"
     ],
     "language": "python",
     "metadata": {},
     "outputs": [],
     "prompt_number": 5
    },
    {
     "cell_type": "code",
     "collapsed": false,
     "input": [
      "[Earth_radius, mean_lon, mean_lat]"
     ],
     "language": "python",
     "metadata": {},
     "outputs": [
      {
       "metadata": {},
       "output_type": "pyout",
       "prompt_number": 6,
       "text": [
        "[6371009.0, -73.9733505249, 40.7718048096]"
       ]
      }
     ],
     "prompt_number": 6
    },
    {
     "cell_type": "code",
     "collapsed": false,
     "input": [
      "# load grid data \n",
      "with con:\n",
      "    cur = con.cursor()\n",
      "    cur.execute(\"SELECT * FROM Grids WHERE Id = 1\")\n",
      "    result = cur.fetchall()[0]\n",
      "\n",
      "x_min = result[1]\n",
      "x_max = result[2]\n",
      "x_step = result[3]\n",
      "y_min = result[4]\n",
      "y_max = result[5]\n",
      "y_step = result[6]\n",
      "\n",
      "x_grid = np.arange(x_min, x_max, x_step)\n",
      "y_grid = np.arange(y_min, y_max, y_step)"
     ],
     "language": "python",
     "metadata": {},
     "outputs": [],
     "prompt_number": 7
    },
    {
     "cell_type": "code",
     "collapsed": false,
     "input": [
      "print find_my_block(-4500, 10, x_grid, y_grid)"
     ],
     "language": "python",
     "metadata": {},
     "outputs": [
      {
       "output_type": "stream",
       "stream": "stdout",
       "text": [
        "(0, 10)\n"
       ]
      }
     ],
     "prompt_number": 16
    },
    {
     "cell_type": "code",
     "collapsed": true,
     "input": [],
     "language": "python",
     "metadata": {},
     "outputs": [],
     "prompt_number": 8
    },
    {
     "cell_type": "code",
     "collapsed": false,
     "input": [],
     "language": "python",
     "metadata": {},
     "outputs": []
    },
    {
     "cell_type": "code",
     "collapsed": false,
     "input": [],
     "language": "python",
     "metadata": {},
     "outputs": []
    },
    {
     "cell_type": "code",
     "collapsed": false,
     "input": [],
     "language": "python",
     "metadata": {},
     "outputs": []
    },
    {
     "cell_type": "code",
     "collapsed": false,
     "input": [],
     "language": "python",
     "metadata": {},
     "outputs": []
    },
    {
     "cell_type": "code",
     "collapsed": false,
     "input": [],
     "language": "python",
     "metadata": {},
     "outputs": []
    },
    {
     "cell_type": "code",
     "collapsed": false,
     "input": [
      "with con: \n",
      "    cur = con.cursor()\n",
      "    cur.execute(\"SELECT * FROM Blocks WHERE Max_height > 300\")\n",
      "    rows = cur.fetchall()\n",
      "    for row in rows:\n",
      "        print row\n"
     ],
     "language": "python",
     "metadata": {},
     "outputs": [
      {
       "output_type": "stream",
       "stream": "stdout",
       "text": [
        "(7, -1000.0, 0.0, -3000.0, -2000.0, 4, 7, 319.0)\n",
        "(12, 0.0, 1000.0, -2000.0, -1000.0, 5, 8, 425.5)\n",
        "(40, -1000.0, 0.0, -1000.0, 0.0, 4, 9, 306.0)\n",
        "(41, -1000.0, 0.0, -2000.0, -1000.0, 4, 8, 366.0)\n",
        "(43, -2000.0, -1000.0, -2000.0, -1000.0, 3, 8, 341.0)\n",
        "(48, -2000.0, -1000.0, -3000.0, -2000.0, 3, 7, 443.2)\n",
        "(76, -4000.0, -3000.0, -7000.0, -6000.0, 1, 3, 541.0)\n"
       ]
      }
     ],
     "prompt_number": 10
    },
    {
     "cell_type": "code",
     "collapsed": false,
     "input": [
      "len(rows)"
     ],
     "language": "python",
     "metadata": {},
     "outputs": [
      {
       "metadata": {},
       "output_type": "pyout",
       "prompt_number": 13,
       "text": [
        "53306"
       ]
      }
     ],
     "prompt_number": 13
    },
    {
     "cell_type": "code",
     "collapsed": false,
     "input": [],
     "language": "python",
     "metadata": {},
     "outputs": []
    },
    {
     "cell_type": "code",
     "collapsed": false,
     "input": [],
     "language": "python",
     "metadata": {},
     "outputs": []
    },
    {
     "cell_type": "code",
     "collapsed": false,
     "input": [],
     "language": "python",
     "metadata": {},
     "outputs": []
    },
    {
     "cell_type": "code",
     "collapsed": false,
     "input": [],
     "language": "python",
     "metadata": {},
     "outputs": []
    },
    {
     "cell_type": "code",
     "collapsed": false,
     "input": [],
     "language": "python",
     "metadata": {},
     "outputs": []
    }
   ],
   "metadata": {}
  }
 ]
}