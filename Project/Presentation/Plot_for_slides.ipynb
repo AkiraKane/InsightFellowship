{
 "metadata": {
  "name": "",
  "signature": "sha256:499aec30e6e5ac89c737996c501d9159d943efc8f76986f494994fec7f5d2458"
 },
 "nbformat": 3,
 "nbformat_minor": 0,
 "worksheets": [
  {
   "cells": [
    {
     "cell_type": "code",
     "collapsed": false,
     "input": [
      "%matplotlib inline\n",
      "import re\n",
      "import csv\n",
      "import pandas as pd\n",
      "import matplotlib.pyplot as plt\n",
      "import matplotlib.cm as cm\n",
      "import numpy as np\n",
      "import datetime as dt"
     ],
     "language": "python",
     "metadata": {},
     "outputs": [],
     "prompt_number": 1
    },
    {
     "cell_type": "code",
     "collapsed": false,
     "input": [
      "xml_filename = '../Data/Manhattan_buildings_wParts.xml'\n",
      "height_pat = r'<tag k=\"height\" v=\"(.+)\"/>'"
     ],
     "language": "python",
     "metadata": {},
     "outputs": [],
     "prompt_number": 4
    },
    {
     "cell_type": "code",
     "collapsed": false,
     "input": [
      "file = open(xml_filename, 'r')\n",
      "filecontent = file.read()\n",
      "file.close()"
     ],
     "language": "python",
     "metadata": {},
     "outputs": [],
     "prompt_number": 5
    },
    {
     "cell_type": "code",
     "collapsed": false,
     "input": [
      "print filecontent[-100:-1]"
     ],
     "language": "python",
     "metadata": {},
     "outputs": [
      {
       "output_type": "stream",
       "stream": "stdout",
       "text": [
        "24\"/>\n",
        "    <tag k=\"roof:material\" v=\"concrete\"/>\n",
        "    <tag k=\"roof:shape\" v=\"flat\"/>\n",
        "  </way>\n",
        "\n",
        "</osm>\n"
       ]
      }
     ],
     "prompt_number": 6
    },
    {
     "cell_type": "code",
     "collapsed": false,
     "input": [
      "match_height = re.findall(height_pat, filecontent)"
     ],
     "language": "python",
     "metadata": {},
     "outputs": [],
     "prompt_number": 7
    },
    {
     "cell_type": "code",
     "collapsed": false,
     "input": [
      "csvfile = open('./list_of_heights.csv', 'w')\n",
      "csvfile.write('Height\\n')\n",
      "for index in range(0, len(match_height)):\n",
      "    csvfile.write('%s\\n' % match_height[index])\n",
      "csvfile.close()"
     ],
     "language": "python",
     "metadata": {},
     "outputs": [],
     "prompt_number": 11
    },
    {
     "cell_type": "code",
     "collapsed": false,
     "input": [
      "heights = pd.read_csv('./list_of_heights.csv')"
     ],
     "language": "python",
     "metadata": {},
     "outputs": [],
     "prompt_number": 12
    },
    {
     "cell_type": "code",
     "collapsed": false,
     "input": [
      "heights['Height'] = heights['Height'].convert_objects(convert_numeric=True)"
     ],
     "language": "python",
     "metadata": {},
     "outputs": [],
     "prompt_number": 13
    },
    {
     "cell_type": "code",
     "collapsed": false,
     "input": [
      "plt.figure(figsize=(15,5))\n",
      "hist_figure = heights['Height'].plot(kind = 'hist', bins = 200, color = 'gray')\n",
      "plt.yscale('log', nonposy='clip')\n",
      "plt.xlabel('Height [m]')\n",
      "plt.ylim((0.1,1e5))\n",
      "plt.savefig('height_histogram.png')"
     ],
     "language": "python",
     "metadata": {},
     "outputs": [
      {
       "metadata": {},
       "output_type": "display_data",
       "png": "[encoded data removed]",
       "text": [
        "<matplotlib.figure.Figure at 0x7f942cb8ef10>"
       ]
      }
     ],
     "prompt_number": 16
    },
    {
     "cell_type": "code",
     "collapsed": false,
     "input": [],
     "language": "python",
     "metadata": {},
     "outputs": []
    }
   ],
   "metadata": {}
  }
 ]
}