{
 "metadata": {
  "name": "",
  "signature": "sha256:c5ce15346fe3e08bd1f778f13e70f29feafbaa28a87dea8a395108f3acb1a867"
 },
 "nbformat": 3,
 "nbformat_minor": 0,
 "worksheets": [
  {
   "cells": [
    {
     "cell_type": "code",
     "collapsed": false,
     "input": [
      "%matplotlib inline\n",
      "import re\n",
      "import csv\n",
      "import pandas as pd\n",
      "import matplotlib.pyplot as plt\n",
      "import matplotlib.cm as cm\n",
      "import numpy as np\n",
      "import datetime as dt"
     ],
     "language": "python",
     "metadata": {},
     "outputs": [],
     "prompt_number": 1
    },
    {
     "cell_type": "code",
     "collapsed": false,
     "input": [
      "class Node:\n",
      "    def __init__(self):\n",
      "        self.x = 0\n",
      "        self.y = 0\n",
      "    \n",
      "    def show(self):\n",
      "        print '[x=' + str(self.x) + ', y=' + str(self.y) + ']'"
     ],
     "language": "python",
     "metadata": {},
     "outputs": [],
     "prompt_number": 5
    },
    {
     "cell_type": "code",
     "collapsed": false,
     "input": [
      "# class to store geometries of a single building\n",
      "class Building:\n",
      "    def __init__(self):\n",
      "        self.nodes = []   # list of Nodes\n",
      "        self.z = None        # height\n",
      "    def show(self):\n",
      "        print 'Nodes:'\n",
      "        for node in self.nodes:\n",
      "            node.show()\n",
      "        print 'Height:\\n' + 'z=' + str(self.z)\n",
      "    def plot_footprint(self):\n",
      "        x_list = []\n",
      "        y_list = []\n",
      "        for node in self.nodes:\n",
      "            x_list.append(node.x)\n",
      "            y_list.append(node.y)\n",
      "        plt.plot(x_list,y_list)"
     ],
     "language": "python",
     "metadata": {},
     "outputs": [],
     "prompt_number": 6
    },
    {
     "cell_type": "code",
     "collapsed": false,
     "input": [
      "# choose file and load it in raw\n",
      "#data_directory = '~/InsightDataFellowship/Project/Data/'\n",
      "data_directory = '../Data/'\n",
      "xml_filename = data_directory + 'Empire.xml'\n",
      "file = open(xml_filename, 'r')\n",
      "filecontent = file.read()\n",
      "file.close()"
     ],
     "language": "python",
     "metadata": {},
     "outputs": [],
     "prompt_number": 7
    },
    {
     "cell_type": "code",
     "collapsed": false,
     "input": [
      "# check the beginning of the file\n",
      "print filecontent[:1000]"
     ],
     "language": "python",
     "metadata": {},
     "outputs": [
      {
       "output_type": "stream",
       "stream": "stdout",
       "text": [
        "<?xml version=\"1.0\" encoding=\"UTF-8\"?>\n",
        "<osm version=\"0.6\" generator=\"Overpass API\">\n",
        "<note>The data included in this document is from www.openstreetmap.org. The data is made available under ODbL.</note>\n",
        "<meta osm_base=\"2015-07-12T18:51:02Z\"/>\n",
        "\n",
        "  <node id=\"402743563\" lat=\"40.7484833\" lon=\"-73.9864855\"/>\n",
        "  <node id=\"402743567\" lat=\"40.7479226\" lon=\"-73.9851554\"/>\n",
        "  <node id=\"402743571\" lat=\"40.7483735\" lon=\"-73.9848259\"/>\n",
        "  <node id=\"402743573\" lat=\"40.7489422\" lon=\"-73.9861526\"/>\n",
        "  <node id=\"1507557082\" lat=\"40.7480537\" lon=\"-73.9853030\"/>\n",
        "  <node id=\"1507557091\" lat=\"40.7480680\" lon=\"-73.9854525\"/>\n",
        "  <node id=\"1507557093\" lat=\"40.7481053\" lon=\"-73.9854250\"/>\n",
        "  <node id=\"1507557095\" lat=\"40.7481389\" lon=\"-73.9855058\"/>\n",
        "  <node id=\"1507557098\" lat=\"40.7481619\" lon=\"-73.9856743\"/>\n",
        "  <node id=\"1507557099\" lat=\"40.7481634\" lon=\"-73.9855148\"/>\n",
        "  <node id=\"1507557100\" lat=\"40.7481637\" lon=\"-73.9854039\"/>\n",
        "  <node id=\"1507557101\" lat=\"40.7481907\" lon=\"-73.9854676\"/>\n",
        "  <node id=\"1507557102\" lat=\"\n"
       ]
      }
     ],
     "prompt_number": 8
    },
    {
     "cell_type": "code",
     "collapsed": false,
     "input": [
      "# collect the nodes into a dict\n",
      "# empty dict for nodes {id: Node}\n",
      "nodes = {}\n",
      "node_match_str = r'<node id=\"(\\d+)\" lat=\"(-?\\d+\\.\\d+)\" lon=\"(-?\\d+\\.\\d+)\"/>'\n",
      "match = re.findall(node_match_str, filecontent)\n",
      "for node in match:\n",
      "    nodes[str(node[0])] = Node() # id is the numer 0 output\n",
      "    nodes[str(node[0])] .x = float(node[2]) # lon is the number 2 output\n",
      "    nodes[str(node[0])] .y = float(node[1]) # lat is the number 1 output\n"
     ],
     "language": "python",
     "metadata": {},
     "outputs": [],
     "prompt_number": 17
    },
    {
     "cell_type": "code",
     "collapsed": false,
     "input": [
      "# check that it works\n",
      "nodes['1507557101'].show()"
     ],
     "language": "python",
     "metadata": {},
     "outputs": [
      {
       "output_type": "stream",
       "stream": "stdout",
       "text": [
        "[x=-73.9854676, y=40.7481907]\n"
       ]
      }
     ],
     "prompt_number": 18
    },
    {
     "cell_type": "code",
     "collapsed": false,
     "input": [
      "# collect buildings into dict\n",
      "\n",
      "buildings = {}\n",
      "\n",
      "# first, find ways\n",
      "way_match_str = r'<way id=\"(\\d+)\">([\\w\\W]+?)</way>'\n",
      "matched_ways = re.findall(way_match_str, filecontent)\n",
      "# match[i][0] : ith way id\n",
      "# match[i][1] : attributes of ith way\n",
      "\n",
      "for way in matched_ways:\n",
      "    # get building id\n",
      "    found_id = way[0]\n",
      "    buildings[found_id] = Building()\n",
      "    \n",
      "    # get list of node ids\n",
      "    found_attributes = way[1]\n",
      "    node_mach_str = r'<nd ref=\"(\\d+)\"/>'\n",
      "    matched_nodes = re.findall(node_mach_str, found_attributes)\n",
      "    \n",
      "    for node in matched_nodes:\n",
      "        buildings[found_id].nodes.append(nodes[node])\n",
      "        \n",
      "    # get height\n",
      "    height_ref_match = r'<tag k=\"height\" v=\"(\\d+\\.?\\d*)\"/>'\n",
      "    matched_height = re.findall(height_ref_match, found_attributes)\n",
      "    if matched_height:\n",
      "        buildings[found_id].z = float(matched_height[0])"
     ],
     "language": "python",
     "metadata": {},
     "outputs": [],
     "prompt_number": 145
    },
    {
     "cell_type": "code",
     "collapsed": false,
     "input": [
      "# check if this works\n",
      "buildings['265302171'].show()"
     ],
     "language": "python",
     "metadata": {},
     "outputs": [
      {
       "output_type": "stream",
       "stream": "stdout",
       "text": [
        "Nodes:\n",
        "[x=-73.9851058, y=40.7488293]\n",
        "[x=-73.985575, y=40.7490258]\n",
        "[x=-73.9853554, y=40.749329]\n",
        "[x=-73.9854369, y=40.7493632]\n",
        "[x=-73.9855548, y=40.7494125]\n",
        "[x=-73.9854353, y=40.7495776]\n",
        "[x=-73.9847667, y=40.7492975]\n",
        "[x=-73.9849027, y=40.7491097]\n",
        "[x=-73.9850184, y=40.7489499]\n",
        "[x=-73.9851058, y=40.7488293]\n",
        "Height:\n",
        "z=47.2\n"
       ]
      }
     ],
     "prompt_number": 147
    },
    {
     "cell_type": "code",
     "collapsed": false,
     "input": [
      "# check the end of the file\n",
      "print filecontent[-1000:]"
     ],
     "language": "python",
     "metadata": {},
     "outputs": [
      {
       "output_type": "stream",
       "stream": "stdout",
       "text": [
        "ilding\" v=\"yes\"/>\n",
        "    <tag k=\"height\" v=\"49.7\"/>\n",
        "    <tag k=\"nycdoitt:bin\" v=\"1015878\"/>\n",
        "  </way>\n",
        "  <way id=\"265302171\">\n",
        "    <nd ref=\"2709702643\"/>\n",
        "    <nd ref=\"2709702668\"/>\n",
        "    <nd ref=\"2709702698\"/>\n",
        "    <nd ref=\"2709702704\"/>\n",
        "    <nd ref=\"2709702713\"/>\n",
        "    <nd ref=\"2709702734\"/>\n",
        "    <nd ref=\"2709702694\"/>\n",
        "    <nd ref=\"2709702680\"/>\n",
        "    <nd ref=\"2709702649\"/>\n",
        "    <nd ref=\"2709702643\"/>\n",
        "    <tag k=\"building\" v=\"yes\"/>\n",
        "    <tag k=\"height\" v=\"47.2\"/>\n",
        "    <tag k=\"nycdoitt:bin\" v=\"1082920\"/>\n",
        "  </way>\n",
        "  <way id=\"265932618\">\n",
        "    <nd ref=\"2715353382\"/>\n",
        "    <nd ref=\"2715353378\"/>\n",
        "    <nd ref=\"2715353375\"/>\n",
        "    <nd ref=\"2715353372\"/>\n",
        "    <nd ref=\"2715353377\"/>\n",
        "    <nd ref=\"2715353380\"/>\n",
        "    <nd ref=\"2715353383\"/>\n",
        "    <nd ref=\"2715353385\"/>\n",
        "    <nd ref=\"2715353382\"/>\n",
        "    <tag k=\"building:part\" v=\"yes\"/>\n",
        "    <tag k=\"height\" v=\"390\"/>\n",
        "    <tag k=\"min_height\" v=\"330\"/>\n",
        "    <tag k=\"roof:height\" v=\"60\"/>\n",
        "    <tag k=\"roof:material\" v=\"metal\"/>\n",
        "    <tag k=\"roof:shape\" v=\"pyramidal\"/>\n",
        "  </way>\n",
        "\n",
        "</osm>\n",
        "\n"
       ]
      }
     ],
     "prompt_number": 141
    },
    {
     "cell_type": "code",
     "collapsed": false,
     "input": [],
     "language": "python",
     "metadata": {},
     "outputs": []
    },
    {
     "cell_type": "code",
     "collapsed": false,
     "input": [],
     "language": "python",
     "metadata": {},
     "outputs": []
    },
    {
     "cell_type": "code",
     "collapsed": false,
     "input": [],
     "language": "python",
     "metadata": {},
     "outputs": []
    },
    {
     "cell_type": "code",
     "collapsed": false,
     "input": [],
     "language": "python",
     "metadata": {},
     "outputs": []
    },
    {
     "cell_type": "code",
     "collapsed": false,
     "input": [],
     "language": "python",
     "metadata": {},
     "outputs": []
    },
    {
     "cell_type": "code",
     "collapsed": false,
     "input": [],
     "language": "python",
     "metadata": {},
     "outputs": []
    },
    {
     "cell_type": "code",
     "collapsed": false,
     "input": [],
     "language": "python",
     "metadata": {},
     "outputs": []
    },
    {
     "cell_type": "code",
     "collapsed": false,
     "input": [],
     "language": "python",
     "metadata": {},
     "outputs": []
    },
    {
     "cell_type": "code",
     "collapsed": false,
     "input": [],
     "language": "python",
     "metadata": {},
     "outputs": []
    },
    {
     "cell_type": "code",
     "collapsed": false,
     "input": [],
     "language": "python",
     "metadata": {},
     "outputs": []
    }
   ],
   "metadata": {}
  }
 ]
}