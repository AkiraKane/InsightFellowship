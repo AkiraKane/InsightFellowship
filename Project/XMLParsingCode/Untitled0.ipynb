{
 "metadata": {
  "name": "",
  "signature": "sha256:3f867b7366ed7a3ff02ec7256d9fcd3506052c008ee51cc3bbf91c128373103b"
 },
 "nbformat": 3,
 "nbformat_minor": 0,
 "worksheets": [
  {
   "cells": [
    {
     "cell_type": "code",
     "collapsed": false,
     "input": [
      "from BeautifulSoup import BeautifulSoup"
     ],
     "language": "python",
     "metadata": {},
     "outputs": [],
     "prompt_number": 1
    },
    {
     "cell_type": "code",
     "collapsed": false,
     "input": [],
     "language": "python",
     "metadata": {},
     "outputs": []
    }
   ],
   "metadata": {}
  }
 ]
}