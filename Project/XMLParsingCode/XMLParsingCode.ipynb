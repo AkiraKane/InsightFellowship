{
 "metadata": {
  "name": "",
  "signature": "sha256:76e4d5d72078271fe4f99ea83475e4f0d0a56327545efd04cbdef863e0deec07"
 },
 "nbformat": 3,
 "nbformat_minor": 0,
 "worksheets": [
  {
   "cells": [
    {
     "cell_type": "code",
     "collapsed": false,
     "input": [
      "%matplotlib inline\n",
      "import re\n",
      "import csv\n",
      "import pandas as pd\n",
      "import matplotlib.pyplot as plt\n",
      "import matplotlib.cm as cm\n",
      "import numpy as np\n",
      "import datetime as dt"
     ],
     "language": "python",
     "metadata": {},
     "outputs": [],
     "prompt_number": 1
    },
    {
     "cell_type": "code",
     "collapsed": false,
     "input": [
      "# choose file and load it in raw\n",
      "#data_directory = '~/InsightDataFellowship/Project/Data/'\n",
      "data_directory = '../Data/'\n",
      "xml_filename = data_directory + 'Manhattan_buildings_wParts.xml'\n",
      "file = open(xml_filename, 'r')\n",
      "filecontent = file.read()\n",
      "file.close()"
     ],
     "language": "python",
     "metadata": {},
     "outputs": [],
     "prompt_number": 2
    },
    {
     "cell_type": "code",
     "collapsed": false,
     "input": [
      "# check the beginning of the file\n",
      "print filecontent[:1000]"
     ],
     "language": "python",
     "metadata": {},
     "outputs": [
      {
       "output_type": "stream",
       "stream": "stdout",
       "text": [
        "<?xml version=\"1.0\" encoding=\"UTF-8\"?>\n",
        "<osm version=\"0.6\" generator=\"Overpass API\">\n",
        "<note>The data included in this document is from www.openstreetmap.org. The data is made available under ODbL.</note>\n",
        "<meta osm_base=\"2015-07-10T01:33:02Z\"/>\n",
        "\n",
        "  <node id=\"53510988\" lat=\"40.7888305\" lon=\"-73.9612368\"/>\n",
        "  <node id=\"53510991\" lat=\"40.7888717\" lon=\"-73.9608287\"/>\n",
        "  <node id=\"166878974\" lat=\"40.7064243\" lon=\"-74.0009939\"/>\n",
        "  <node id=\"194082529\" lat=\"40.7481368\" lon=\"-73.9530265\"/>\n",
        "  <node id=\"199273318\" lat=\"40.7612254\" lon=\"-74.0208916\"/>\n",
        "  <node id=\"199273320\" lat=\"40.7601803\" lon=\"-74.0185356\"/>\n",
        "  <node id=\"199273323\" lat=\"40.7599188\" lon=\"-74.0187378\"/>\n",
        "  <node id=\"199273325\" lat=\"40.7609638\" lon=\"-74.0210938\"/>\n",
        "  <node id=\"199273326\" lat=\"40.7594770\" lon=\"-74.0222418\"/>\n",
        "  <node id=\"199273327\" lat=\"40.7581245\" lon=\"-74.0190742\"/>\n",
        "  <node id=\"199273331\" lat=\"40.7590676\" lon=\"-74.0223644\"/>\n",
        "  <node id=\"199353541\" lat=\"40.7346838\" lon=\"-74.0268109\"/>\n",
        "  <node id=\"199353542\" lat=\"40.7358174\"\n"
       ]
      }
     ],
     "prompt_number": 3
    },
    {
     "cell_type": "code",
     "collapsed": false,
     "input": [
      "# let's use BeautifulSoup\n",
      "from BeautifulSoup import BeautifulStoneSoup"
     ],
     "language": "python",
     "metadata": {},
     "outputs": [],
     "prompt_number": 4
    },
    {
     "cell_type": "code",
     "collapsed": false,
     "input": [
      "soup = BeautifulStoneSoup(filecontent)"
     ],
     "language": "python",
     "metadata": {},
     "outputs": []
    },
    {
     "cell_type": "code",
     "collapsed": false,
     "input": [
      "class Node:\n",
      "    def __init__(self):\n",
      "        self.x = 0\n",
      "        self.y = 0\n",
      "    \n",
      "    def show(self):\n",
      "        print '[x=' + str(self.x) + ', y=' + str(self.y) + ']'"
     ],
     "language": "python",
     "metadata": {},
     "outputs": [],
     "prompt_number": 85
    },
    {
     "cell_type": "code",
     "collapsed": false,
     "input": [
      "# collect the nodes into a dict\n",
      "# empty dict for nodes {id: Node}\n",
      "nodes = {}\n",
      "for node in soup.findAll('node'):\n",
      "    nodes[str(node.get('id'))] = Node()\n",
      "    nodes[str(node.get('id'))].x = float(node.get('lon'))\n",
      "    nodes[str(node.get('id'))].y = float(node.get('lat'))"
     ],
     "language": "python",
     "metadata": {},
     "outputs": [],
     "prompt_number": 86
    },
    {
     "cell_type": "code",
     "collapsed": false,
     "input": [
      "# class to store geometries of a single building\n",
      "class Building:\n",
      "    def __init__(self):\n",
      "        self.nodes = []   # list of Nodes\n",
      "        self.z = None        # height\n",
      "    def show(self):\n",
      "        print 'Nodes:'\n",
      "        for node in self.nodes:\n",
      "            node.show()\n",
      "        print 'Height:\\n' + 'z=' + str(self.z)\n",
      "    def plot_footprint(self):\n",
      "        x_list = []\n",
      "        y_list = []\n",
      "        for node in self.nodes:\n",
      "            x_list.append(node.x)\n",
      "            y_list.append(node.y)\n",
      "        plt.plot(x_list,y_list)"
     ],
     "language": "python",
     "metadata": {},
     "outputs": [],
     "prompt_number": 117
    },
    {
     "cell_type": "code",
     "collapsed": false,
     "input": [
      "# collect the buildings into a dict\n",
      "buildings = {}\n",
      "for way in soup.findAll('way'):\n",
      "    \n",
      "    # fetch building id\n",
      "    this_id = str(way.get('id'))\n",
      "    buildings[this_id] = Building()\n",
      "    \n",
      "    # get geometries of the nodes\n",
      "    for node in way.findAll('nd'):\n",
      "        # fetch node id\n",
      "        this_node_id = str(node.get('ref'))\n",
      "        # get the corresponding Node from nodes dict\n",
      "        buildings[this_id].nodes.append(nodes[this_node_id])\n",
      "        \n",
      "        # get height\n",
      "        for tag in node.findAll('tag'):\n",
      "            if tag.get('k') == 'height':\n",
      "                buildings[this_id].z = float(tag.get('v'))\n",
      "                \n",
      "# drop buildings with zero height\n",
      "no_height_keys = []\n",
      "for key in buildings:\n",
      "    if buildings[key].z is None:\n",
      "        no_height_keys.append(key)\n",
      "for key in no_height_keys:\n",
      "    del buildings[key]"
     ],
     "language": "python",
     "metadata": {},
     "outputs": [],
     "prompt_number": 118
    },
    {
     "cell_type": "code",
     "collapsed": false,
     "input": [
      "for key in buildings:\n",
      "    print buildings[key].z"
     ],
     "language": "python",
     "metadata": {},
     "outputs": [
      {
       "output_type": "stream",
       "stream": "stdout",
       "text": [
        "90.0\n",
        "23.5\n",
        "75.0\n",
        "49.7\n",
        "390.0\n",
        "33.1\n",
        "22.7\n",
        "23.8\n",
        "22.8\n",
        "49.4\n",
        "115.0\n",
        "106.0\n",
        "58.0\n",
        "23.1\n",
        "115.0\n",
        "290.0\n",
        "20.0\n",
        "320.0\n",
        "443.2\n",
        "330.0\n",
        "310.0\n",
        "255.0\n",
        "17.6\n",
        "47.3\n",
        "8.9\n",
        "47.2\n",
        "88.0\n",
        "45.8\n",
        "48.4\n",
        "47.0\n",
        "22.2\n",
        "16.3\n",
        "21.9\n",
        "23.3\n",
        "33.2\n",
        "8.2\n",
        "22.8\n",
        "52.8\n",
        "16.9\n"
       ]
      }
     ],
     "prompt_number": 119
    },
    {
     "cell_type": "code",
     "collapsed": false,
     "input": [
      "# plot the building footprints\n",
      "for key in buildings:\n",
      "    if buildings[key].z >0 :\n",
      "        buildings[key].plot_footprint()\n",
      "plt.show()\n",
      "    \n"
     ],
     "language": "python",
     "metadata": {},
     "outputs": [
      {
       "metadata": {},
       "output_type": "display_data",
       "png": "[encoded data removed]",
       "text": [
        "<matplotlib.figure.Figure at 0x7f5995120cd0>"
       ]
      }
     ],
     "prompt_number": 116
    },
    {
     "cell_type": "code",
     "collapsed": false,
     "input": [],
     "language": "python",
     "metadata": {},
     "outputs": []
    },
    {
     "cell_type": "code",
     "collapsed": false,
     "input": [],
     "language": "python",
     "metadata": {},
     "outputs": []
    },
    {
     "cell_type": "code",
     "collapsed": false,
     "input": [],
     "language": "python",
     "metadata": {},
     "outputs": []
    },
    {
     "cell_type": "code",
     "collapsed": false,
     "input": [],
     "language": "python",
     "metadata": {},
     "outputs": []
    }
   ],
   "metadata": {}
  }
 ]
}