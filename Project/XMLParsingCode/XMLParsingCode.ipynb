{
 "metadata": {
  "name": "",
  "signature": "sha256:5362cf2c0abe690201b9ecb56e6af488b59233f585c05254f27d297615087c6c"
 },
 "nbformat": 3,
 "nbformat_minor": 0,
 "worksheets": [
  {
   "cells": [
    {
     "cell_type": "code",
     "collapsed": false,
     "input": [
      "%matplotlib inline\n",
      "import re\n",
      "import csv\n",
      "import pandas as pd\n",
      "import matplotlib.pyplot as plt\n",
      "import matplotlib.cm as cm\n",
      "import numpy as np\n",
      "import datetime as dt"
     ],
     "language": "python",
     "metadata": {},
     "outputs": [],
     "prompt_number": 1
    },
    {
     "cell_type": "code",
     "collapsed": false,
     "input": [
      "# choose file and load it in raw\n",
      "#data_directory = '~/InsightDataFellowship/Project/Data/'\n",
      "data_directory = '../Data/'\n",
      "xml_filename = data_directory + 'Empire.xml'\n",
      "file = open(xml_filename, 'r')\n",
      "filecontent = file.read()\n",
      "file.close()"
     ],
     "language": "python",
     "metadata": {},
     "outputs": [],
     "prompt_number": 81
    },
    {
     "cell_type": "code",
     "collapsed": false,
     "input": [
      "# check the beginning of the file\n",
      "print filecontent[:1000]"
     ],
     "language": "python",
     "metadata": {},
     "outputs": [
      {
       "output_type": "stream",
       "stream": "stdout",
       "text": [
        "<?xml version=\"1.0\" encoding=\"UTF-8\"?>\n",
        "<osm version=\"0.6\" generator=\"Overpass API\">\n",
        "<note>The data included in this document is from www.openstreetmap.org. The data is made available under ODbL.</note>\n",
        "<meta osm_base=\"2015-07-12T18:51:02Z\"/>\n",
        "\n",
        "  <node id=\"402743563\" lat=\"40.7484833\" lon=\"-73.9864855\"/>\n",
        "  <node id=\"402743567\" lat=\"40.7479226\" lon=\"-73.9851554\"/>\n",
        "  <node id=\"402743571\" lat=\"40.7483735\" lon=\"-73.9848259\"/>\n",
        "  <node id=\"402743573\" lat=\"40.7489422\" lon=\"-73.9861526\"/>\n",
        "  <node id=\"1507557082\" lat=\"40.7480537\" lon=\"-73.9853030\"/>\n",
        "  <node id=\"1507557091\" lat=\"40.7480680\" lon=\"-73.9854525\"/>\n",
        "  <node id=\"1507557093\" lat=\"40.7481053\" lon=\"-73.9854250\"/>\n",
        "  <node id=\"1507557095\" lat=\"40.7481389\" lon=\"-73.9855058\"/>\n",
        "  <node id=\"1507557098\" lat=\"40.7481619\" lon=\"-73.9856743\"/>\n",
        "  <node id=\"1507557099\" lat=\"40.7481634\" lon=\"-73.9855148\"/>\n",
        "  <node id=\"1507557100\" lat=\"40.7481637\" lon=\"-73.9854039\"/>\n",
        "  <node id=\"1507557101\" lat=\"40.7481907\" lon=\"-73.9854676\"/>\n",
        "  <node id=\"1507557102\" lat=\"\n"
       ]
      }
     ],
     "prompt_number": 82
    },
    {
     "cell_type": "code",
     "collapsed": false,
     "input": [
      "# let's use BeautifulSoup\n",
      "from BeautifulSoup import BeautifulStoneSoup"
     ],
     "language": "python",
     "metadata": {},
     "outputs": [],
     "prompt_number": 83
    },
    {
     "cell_type": "code",
     "collapsed": false,
     "input": [
      "soup = BeautifulStoneSoup(filecontent)"
     ],
     "language": "python",
     "metadata": {},
     "outputs": [],
     "prompt_number": 84
    },
    {
     "cell_type": "code",
     "collapsed": false,
     "input": [
      "class Node:\n",
      "    def __init__(self):\n",
      "        self.x = 0\n",
      "        self.y = 0\n",
      "    \n",
      "    def show(self):\n",
      "        print '[x=' + str(self.x) + ', y=' + str(self.y) + ']'"
     ],
     "language": "python",
     "metadata": {},
     "outputs": [],
     "prompt_number": 85
    },
    {
     "cell_type": "code",
     "collapsed": false,
     "input": [
      "# collect the nodes into a dict\n",
      "# empty dict for nodes {id: [lon, lat]}\n",
      "nodes = {}\n",
      "for node in soup.findAll('node'):\n",
      "    nodes[str(node.get('id'))] = Node()\n",
      "    nodes[str(node.get('id'))].x = float(node.get('lon'))\n",
      "    nodes[str(node.get('id'))].y = float(node.get('lat'))"
     ],
     "language": "python",
     "metadata": {},
     "outputs": [],
     "prompt_number": 86
    },
    {
     "cell_type": "code",
     "collapsed": false,
     "input": [
      "# class to store geometries of a single building\n",
      "class Building:\n",
      "    def __init__(self):\n",
      "        self.nodes = []   # list of Nodes\n",
      "        self.z = 0        # height\n",
      "    def show(self):\n",
      "        print 'Nodes:'\n",
      "        for node in self.nodes:\n",
      "            node.show()\n",
      "        print 'Height:\\n' + 'z=' + str(self.z)"
     ],
     "language": "python",
     "metadata": {},
     "outputs": [],
     "prompt_number": 87
    },
    {
     "cell_type": "code",
     "collapsed": false,
     "input": [
      "# collect the buildings into a dict\n",
      "buildings = {}\n",
      "for way in soup.findAll('way'):\n",
      "    \n",
      "    # fetch building id\n",
      "    this_id = str(way.get('id'))\n",
      "    buildings[this_id] = Building()\n",
      "    \n",
      "    # get geometries of the nodes\n",
      "    for node in way.findAll('nd'):\n",
      "        # fetch node id\n",
      "        this_node_id = str(node.get('ref'))\n",
      "        # get the corresponding Node from nodes dict\n",
      "        buildings[this_id].nodes.append(nodes[this_node_id])\n",
      "        \n",
      "        # get height\n",
      "        for tag in node.findAll('tag'):\n",
      "            if tag.get('k') == 'height':\n",
      "                buildings[this_id].z = float(tag.get('v'))"
     ],
     "language": "python",
     "metadata": {},
     "outputs": [],
     "prompt_number": 88
    },
    {
     "cell_type": "code",
     "collapsed": false,
     "input": [
      "buildings"
     ],
     "language": "python",
     "metadata": {},
     "outputs": [
      {
       "metadata": {},
       "output_type": "pyout",
       "prompt_number": 89,
       "text": [
        "{'137425125': <__main__.Building instance at 0x7f599525cbd8>,\n",
        " '137425127': <__main__.Building instance at 0x7f599525cab8>,\n",
        " '137425128': <__main__.Building instance at 0x7f599525cc20>,\n",
        " '137425129': <__main__.Building instance at 0x7f599525ccb0>,\n",
        " '137425131': <__main__.Building instance at 0x7f599525cd40>,\n",
        " '137425133': <__main__.Building instance at 0x7f599525cdd0>,\n",
        " '137425142': <__main__.Building instance at 0x7f599525ce60>,\n",
        " '137425144': <__main__.Building instance at 0x7f599525cf38>,\n",
        " '137425145': <__main__.Building instance at 0x7f599525cfc8>,\n",
        " '159886327': <__main__.Building instance at 0x7f599525cea8>,\n",
        " '159886331': <__main__.Building instance at 0x7f5995279128>,\n",
        " '159886332': <__main__.Building instance at 0x7f59952791b8>,\n",
        " '159886339': <__main__.Building instance at 0x7f5995279200>,\n",
        " '159886342': <__main__.Building instance at 0x7f59952792d8>,\n",
        " '159886345': <__main__.Building instance at 0x7f5995279368>,\n",
        " '265260818': <__main__.Building instance at 0x7f59952793f8>,\n",
        " '265260824': <__main__.Building instance at 0x7f5995279440>,\n",
        " '265260827': <__main__.Building instance at 0x7f59952794d0>,\n",
        " '265260883': <__main__.Building instance at 0x7f5995279560>,\n",
        " '265260889': <__main__.Building instance at 0x7f59952795f0>,\n",
        " '265260891': <__main__.Building instance at 0x7f5995279680>,\n",
        " '265260897': <__main__.Building instance at 0x7f5995279710>,\n",
        " '265260901': <__main__.Building instance at 0x7f5995279758>,\n",
        " '265260904': <__main__.Building instance at 0x7f59952798c0>,\n",
        " '265260911': <__main__.Building instance at 0x7f5995279950>,\n",
        " '265260912': <__main__.Building instance at 0x7f59952799e0>,\n",
        " '265260914': <__main__.Building instance at 0x7f5995279a70>,\n",
        " '265260933': <__main__.Building instance at 0x7f5995279b00>,\n",
        " '265260941': <__main__.Building instance at 0x7f5995279bd8>,\n",
        " '265260949': <__main__.Building instance at 0x7f5995279c68>,\n",
        " '265260950': <__main__.Building instance at 0x7f5995279cf8>,\n",
        " '265260954': <__main__.Building instance at 0x7f5995279d88>,\n",
        " '265301697': <__main__.Building instance at 0x7f5995279e18>,\n",
        " '265301727': <__main__.Building instance at 0x7f5995279e60>,\n",
        " '265301802': <__main__.Building instance at 0x7f5995279ef0>,\n",
        " '265301911': <__main__.Building instance at 0x7f5995279f80>,\n",
        " '265302166': <__main__.Building instance at 0x7f5995279fc8>,\n",
        " '265302171': <__main__.Building instance at 0x7f599521a128>,\n",
        " '265932618': <__main__.Building instance at 0x7f599521a1b8>,\n",
        " '34633854': <__main__.Building instance at 0x7f599525cb48>}"
       ]
      }
     ],
     "prompt_number": 89
    },
    {
     "cell_type": "code",
     "collapsed": false,
     "input": [
      "for key in buildings:\n",
      "    print buildings[key].z"
     ],
     "language": "python",
     "metadata": {},
     "outputs": [
      {
       "output_type": "stream",
       "stream": "stdout",
       "text": [
        "90.0\n",
        "23.5\n",
        "75.0\n",
        "49.7\n",
        "390.0\n",
        "33.1\n",
        "22.7\n",
        "23.8\n",
        "22.8\n",
        "49.4\n",
        "115.0\n",
        "106.0\n",
        "58.0\n",
        "23.1\n",
        "115.0\n",
        "290.0\n",
        "20.0\n",
        "320.0\n",
        "443.2\n",
        "330.0\n",
        "310.0\n",
        "255.0\n",
        "17.6\n",
        "47.3\n",
        "8.9\n",
        "47.2\n",
        "88.0\n",
        "45.8\n",
        "48.4\n",
        "47.0\n",
        "22.2\n",
        "16.3\n",
        "21.9\n",
        "23.3\n",
        "0\n",
        "33.2\n",
        "8.2\n",
        "22.8\n",
        "52.8\n",
        "16.9\n"
       ]
      }
     ],
     "prompt_number": 90
    },
    {
     "cell_type": "code",
     "collapsed": false,
     "input": [],
     "language": "python",
     "metadata": {},
     "outputs": []
    },
    {
     "cell_type": "code",
     "collapsed": false,
     "input": [],
     "language": "python",
     "metadata": {},
     "outputs": []
    },
    {
     "cell_type": "code",
     "collapsed": false,
     "input": [],
     "language": "python",
     "metadata": {},
     "outputs": []
    },
    {
     "cell_type": "code",
     "collapsed": false,
     "input": [],
     "language": "python",
     "metadata": {},
     "outputs": []
    },
    {
     "cell_type": "code",
     "collapsed": false,
     "input": [],
     "language": "python",
     "metadata": {},
     "outputs": []
    },
    {
     "cell_type": "code",
     "collapsed": false,
     "input": [],
     "language": "python",
     "metadata": {},
     "outputs": []
    }
   ],
   "metadata": {}
  }
 ]
}