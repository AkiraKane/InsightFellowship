{
 "metadata": {
  "name": "",
  "signature": "sha256:78ee836a0cc44727af5aa7994c33abd4cc5c6ec1b441ef088d75f1d1f71a55e7"
 },
 "nbformat": 3,
 "nbformat_minor": 0,
 "worksheets": [
  {
   "cells": [
    {
     "cell_type": "code",
     "collapsed": false,
     "input": [
      "import datetime as dt\n",
      "from dateutil.parser import parse"
     ],
     "language": "python",
     "metadata": {},
     "outputs": [],
     "prompt_number": 28
    },
    {
     "cell_type": "code",
     "collapsed": false,
     "input": [
      "mydate = dt.datetime.today()"
     ],
     "language": "python",
     "metadata": {},
     "outputs": [],
     "prompt_number": 29
    },
    {
     "cell_type": "code",
     "collapsed": false,
     "input": [
      "mydate.month"
     ],
     "language": "python",
     "metadata": {},
     "outputs": [
      {
       "metadata": {},
       "output_type": "pyout",
       "prompt_number": 32,
       "text": [
        "7"
       ]
      }
     ],
     "prompt_number": 32
    },
    {
     "cell_type": "code",
     "collapsed": false,
     "input": [
      "str(parse(\"\").month) "
     ],
     "language": "python",
     "metadata": {},
     "outputs": [
      {
       "metadata": {},
       "output_type": "pyout",
       "prompt_number": 80,
       "text": [
        "'7'"
       ]
      }
     ],
     "prompt_number": 80
    },
    {
     "cell_type": "code",
     "collapsed": false,
     "input": [
      "try:\n",
      "    parse(\"abs\")\n",
      "except:\n",
      "    print \"\""
     ],
     "language": "python",
     "metadata": {},
     "outputs": [
      {
       "output_type": "stream",
       "stream": "stdout",
       "text": [
        "\n"
       ]
      }
     ],
     "prompt_number": 20
    },
    {
     "cell_type": "code",
     "collapsed": false,
     "input": [],
     "language": "python",
     "metadata": {},
     "outputs": []
    },
    {
     "cell_type": "code",
     "collapsed": false,
     "input": [
      "import pymysql as mdb\n",
      "con = mdb.connect('localhost', 'root', '123', 'Manhattan_buildings')"
     ],
     "language": "python",
     "metadata": {},
     "outputs": [],
     "prompt_number": 34
    },
    {
     "cell_type": "code",
     "collapsed": false,
     "input": [
      "with con:\n",
      "    cur = con.cursor()\n",
      "    cur.execute(\"SELECT Planet_radius, Mean_lon, Mean_lat FROM Cities WHERE Name = 'New York Manhattan'\")\n",
      "    result = cur.fetchall()[0]\n",
      "print result"
     ],
     "language": "python",
     "metadata": {},
     "outputs": [
      {
       "output_type": "stream",
       "stream": "stdout",
       "text": [
        "(6371009.0, -73.9733505249, 40.7718048096)\n"
       ]
      }
     ],
     "prompt_number": 42
    },
    {
     "cell_type": "code",
     "collapsed": false,
     "input": [
      "result[0]"
     ],
     "language": "python",
     "metadata": {},
     "outputs": [
      {
       "metadata": {},
       "output_type": "pyout",
       "prompt_number": 40,
       "text": [
        "6371009.0"
       ]
      }
     ],
     "prompt_number": 40
    },
    {
     "cell_type": "code",
     "collapsed": false,
     "input": [
      "with con:\n",
      "    cur = con.cursor()\n",
      "    cur.execute(\"SELECT \\\n",
      "                    Xmin,\\\n",
      "                    Xmax,\\\n",
      "                    Xstep,\\\n",
      "                    Ymin,\\\n",
      "                    Ymax,\\\n",
      "                    Ystep\\\n",
      "                FROM Grids \\\n",
      "                WHERE Id = 1\")\n",
      "    result = cur.fetchall()[0]"
     ],
     "language": "python",
     "metadata": {},
     "outputs": [],
     "prompt_number": 45
    },
    {
     "cell_type": "code",
     "collapsed": false,
     "input": [
      "print result"
     ],
     "language": "python",
     "metadata": {},
     "outputs": [
      {
       "output_type": "stream",
       "stream": "stdout",
       "text": [
        "(-5000.0, 7000.0, 500.0, -10000.0, 14000.0, 500.0)\n"
       ]
      }
     ],
     "prompt_number": 46
    },
    {
     "cell_type": "code",
     "collapsed": false,
     "input": [
      "with con:\n",
      "    cur = con.cursor()\n",
      "    # get block_id\n",
      "    cur.execute(\"SELECT Id\\\n",
      "        FROM Blocks\\\n",
      "        WHERE X_id = \" + '10' + \"\\\n",
      "        AND Y_id = \" + '16' + \"\\\n",
      "    \")\n",
      "    result = cur.fetchall()[0]\n",
      "    block_id = result[0]\n",
      "\n",
      "    cur.execute(\"SELECT \\\n",
      "        X,\\\n",
      "        Y,\\\n",
      "        Z, \\\n",
      "        Order_in_building,\\\n",
      "        Number_of_nodes_in_building,\\\n",
      "        Building_id \\\n",
      "        FROM Nodes \\\n",
      "        WHERE Block_id = \" + str(block_id) + \" \\\n",
      "        AND Z > 0 \\\n",
      "        ORDER BY Building_id, Order_in_building\\\n",
      "        \")\n",
      "    rows = cur.fetchall()"
     ],
     "language": "python",
     "metadata": {},
     "outputs": [],
     "prompt_number": 75
    },
    {
     "cell_type": "code",
     "collapsed": false,
     "input": [
      "round(3.54)"
     ],
     "language": "python",
     "metadata": {},
     "outputs": [
      {
       "metadata": {},
       "output_type": "pyout",
       "prompt_number": 78,
       "text": [
        "4.0"
       ]
      }
     ],
     "prompt_number": 78
    },
    {
     "cell_type": "code",
     "collapsed": false,
     "input": [],
     "language": "python",
     "metadata": {},
     "outputs": []
    }
   ],
   "metadata": {}
  }
 ]
}