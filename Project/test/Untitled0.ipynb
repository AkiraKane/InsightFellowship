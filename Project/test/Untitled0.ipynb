{
 "metadata": {
  "name": "",
  "signature": "sha256:1964ba9fff70d02be5ec8b15e4ea19dd85980990945e1e2cdab901842353d889"
 },
 "nbformat": 3,
 "nbformat_minor": 0,
 "worksheets": [
  {
   "cells": [
    {
     "cell_type": "code",
     "collapsed": false,
     "input": [
      "import datetime as dt\n",
      "from dateutil.parser import parse"
     ],
     "language": "python",
     "metadata": {},
     "outputs": [],
     "prompt_number": 28
    },
    {
     "cell_type": "code",
     "collapsed": false,
     "input": [
      "mydate = dt.datetime.today()"
     ],
     "language": "python",
     "metadata": {},
     "outputs": [],
     "prompt_number": 29
    },
    {
     "cell_type": "code",
     "collapsed": false,
     "input": [
      "mydate.month"
     ],
     "language": "python",
     "metadata": {},
     "outputs": [
      {
       "metadata": {},
       "output_type": "pyout",
       "prompt_number": 32,
       "text": [
        "7"
       ]
      }
     ],
     "prompt_number": 32
    },
    {
     "cell_type": "code",
     "collapsed": false,
     "input": [
      "str(parse(\"\").month) "
     ],
     "language": "python",
     "metadata": {},
     "outputs": [
      {
       "metadata": {},
       "output_type": "pyout",
       "prompt_number": 80,
       "text": [
        "'7'"
       ]
      }
     ],
     "prompt_number": 80
    },
    {
     "cell_type": "code",
     "collapsed": false,
     "input": [
      "try:\n",
      "    parse(\"abs\")\n",
      "except:\n",
      "    print \"\""
     ],
     "language": "python",
     "metadata": {},
     "outputs": [
      {
       "output_type": "stream",
       "stream": "stdout",
       "text": [
        "\n"
       ]
      }
     ],
     "prompt_number": 20
    },
    {
     "cell_type": "code",
     "collapsed": false,
     "input": [
      "import numpy as np\n",
      "np.arange(0, 2*np.pi, 0.1)"
     ],
     "language": "python",
     "metadata": {},
     "outputs": [
      {
       "metadata": {},
       "output_type": "pyout",
       "prompt_number": 91,
       "text": [
        "array([ 0. ,  0.1,  0.2,  0.3,  0.4,  0.5,  0.6,  0.7,  0.8,  0.9,  1. ,\n",
        "        1.1,  1.2,  1.3,  1.4,  1.5,  1.6,  1.7,  1.8,  1.9,  2. ,  2.1,\n",
        "        2.2,  2.3,  2.4,  2.5,  2.6,  2.7,  2.8,  2.9,  3. ,  3.1,  3.2,\n",
        "        3.3,  3.4,  3.5,  3.6,  3.7,  3.8,  3.9,  4. ,  4.1,  4.2,  4.3,\n",
        "        4.4,  4.5,  4.6,  4.7,  4.8,  4.9,  5. ,  5.1,  5.2,  5.3,  5.4,\n",
        "        5.5,  5.6,  5.7,  5.8,  5.9,  6. ,  6.1,  6.2])"
       ]
      }
     ],
     "prompt_number": 91
    },
    {
     "cell_type": "code",
     "collapsed": false,
     "input": [
      "import pymysql as mdb\n",
      "con = mdb.connect('localhost', 'root', '123', 'Manhattan_buildings')"
     ],
     "language": "python",
     "metadata": {},
     "outputs": [],
     "prompt_number": 34
    },
    {
     "cell_type": "code",
     "collapsed": false,
     "input": [
      "with con:\n",
      "    cur = con.cursor()\n",
      "    cur.execute(\"SELECT Planet_radius, Mean_lon, Mean_lat FROM Cities WHERE Name = 'New York Manhattan'\")\n",
      "    result = cur.fetchall()[0]\n",
      "print result"
     ],
     "language": "python",
     "metadata": {},
     "outputs": [
      {
       "output_type": "stream",
       "stream": "stdout",
       "text": [
        "(6371009.0, -73.9733505249, 40.7718048096)\n"
       ]
      }
     ],
     "prompt_number": 42
    },
    {
     "cell_type": "code",
     "collapsed": false,
     "input": [
      "result[0]"
     ],
     "language": "python",
     "metadata": {},
     "outputs": [
      {
       "metadata": {},
       "output_type": "pyout",
       "prompt_number": 40,
       "text": [
        "6371009.0"
       ]
      }
     ],
     "prompt_number": 40
    },
    {
     "cell_type": "code",
     "collapsed": false,
     "input": [
      "with con:\n",
      "    cur = con.cursor()\n",
      "    cur.execute(\"SELECT \\\n",
      "                    Xmin,\\\n",
      "                    Xmax,\\\n",
      "                    Xstep,\\\n",
      "                    Ymin,\\\n",
      "                    Ymax,\\\n",
      "                    Ystep\\\n",
      "                FROM Grids \\\n",
      "                WHERE Id = 1\")\n",
      "    result = cur.fetchall()[0]"
     ],
     "language": "python",
     "metadata": {},
     "outputs": [],
     "prompt_number": 45
    },
    {
     "cell_type": "code",
     "collapsed": false,
     "input": [
      "print result"
     ],
     "language": "python",
     "metadata": {},
     "outputs": [
      {
       "output_type": "stream",
       "stream": "stdout",
       "text": [
        "(-5000.0, 7000.0, 500.0, -10000.0, 14000.0, 500.0)\n"
       ]
      }
     ],
     "prompt_number": 46
    },
    {
     "cell_type": "code",
     "collapsed": false,
     "input": [
      "with con:\n",
      "    cur = con.cursor()\n",
      "    # get block_id\n",
      "    cur.execute(\"SELECT Id\\\n",
      "        FROM Blocks\\\n",
      "        WHERE X_id = \" + '10' + \"\\\n",
      "        AND Y_id = \" + '16' + \"\\\n",
      "    \")\n",
      "    result = cur.fetchall()[0]\n",
      "    block_id = result[0]\n",
      "\n",
      "    cur.execute(\"SELECT \\\n",
      "        X,\\\n",
      "        Y,\\\n",
      "        Z, \\\n",
      "        Order_in_building,\\\n",
      "        Number_of_nodes_in_building,\\\n",
      "        Building_id \\\n",
      "        FROM Nodes \\\n",
      "        WHERE Block_id = \" + str(block_id) + \" \\\n",
      "        AND Z > 0 \\\n",
      "        ORDER BY Building_id, Order_in_building\\\n",
      "        \")\n",
      "    rows = cur.fetchall()"
     ],
     "language": "python",
     "metadata": {},
     "outputs": [],
     "prompt_number": 75
    },
    {
     "cell_type": "code",
     "collapsed": false,
     "input": [
      "round(3.54)"
     ],
     "language": "python",
     "metadata": {},
     "outputs": [
      {
       "metadata": {},
       "output_type": "pyout",
       "prompt_number": 78,
       "text": [
        "4.0"
       ]
      }
     ],
     "prompt_number": 78
    },
    {
     "cell_type": "code",
     "collapsed": false,
     "input": [
      "%matplotlib inline"
     ],
     "language": "python",
     "metadata": {},
     "outputs": [],
     "prompt_number": 94
    },
    {
     "cell_type": "code",
     "collapsed": false,
     "input": [
      "import matplotlib.pyplot as plt\n",
      "import numpy as np\n",
      "\n",
      "inner_offset = 0.05\n",
      "\n",
      "theta = np.arange(0, 2*np.pi, 0.1)\n",
      "L = len(theta)\n",
      "#theta = np.random.rand(L) * 2*np.pi\n",
      "r1 = 2 + np.cos(theta)\n",
      "r2 = 0.5 + 0* theta\n",
      "\n",
      "c1 = plt.polar(theta, r1, color='b')[0]\n",
      "x1 = c1.get_xdata()\n",
      "y1 = c1.get_ydata()\n",
      "c2 = plt.polar(theta, r2, color='y')[0]\n",
      "x2 = c2.get_xdata()\n",
      "y2 = c2.get_ydata()\n",
      "\n",
      "plt.fill_between(x1, 0, y2, color='k')\n",
      "plt.show()"
     ],
     "language": "python",
     "metadata": {},
     "outputs": [
      {
       "metadata": {},
       "output_type": "display_data",
       "png": "[encoded data removed]",
       "text": [
        "<matplotlib.figure.Figure at 0x7f204898b1d0>"
       ]
      }
     ],
     "prompt_number": 139
    },
    {
     "cell_type": "code",
     "collapsed": false,
     "input": [
      "x = np.random.rand(20)\n",
      "y = x**2"
     ],
     "language": "python",
     "metadata": {},
     "outputs": [],
     "prompt_number": 133
    },
    {
     "cell_type": "code",
     "collapsed": false,
     "input": [
      "y"
     ],
     "language": "python",
     "metadata": {},
     "outputs": [
      {
       "metadata": {},
       "output_type": "pyout",
       "prompt_number": 134,
       "text": [
        "array([  3.01349557e-01,   1.58962397e-05,   3.02905906e-03,\n",
        "         8.11006989e-01,   4.72589714e-02,   7.03919268e-01,\n",
        "         3.79872757e-01,   9.61544500e-05,   1.46629016e-04,\n",
        "         9.07737915e-01,   5.03569403e-01,   7.84669703e-01,\n",
        "         9.33119968e-01,   6.09327870e-01,   9.68795733e-04,\n",
        "         2.99084477e-01,   8.15558261e-01,   4.68909579e-02,\n",
        "         6.90964921e-05,   4.21495370e-01])"
       ]
      }
     ],
     "prompt_number": 134
    },
    {
     "cell_type": "code",
     "collapsed": false,
     "input": [
      "li = []\n",
      "for i in range(0, len(x)):\n",
      "    li.append( (x[i], y[i]) )\n",
      "li.sort(key= lambda x:x[0])"
     ],
     "language": "python",
     "metadata": {},
     "outputs": [],
     "prompt_number": 135
    },
    {
     "cell_type": "code",
     "collapsed": false,
     "input": [
      "li"
     ],
     "language": "python",
     "metadata": {},
     "outputs": [
      {
       "metadata": {},
       "output_type": "pyout",
       "prompt_number": 136,
       "text": [
        "[(0.0039870088711563278, 1.5896239738679255e-05),\n",
        " (0.0083124299753311037, 6.9096492094783058e-05),\n",
        " (0.0098058375446831159, 9.6154449952717e-05),\n",
        " (0.012109046847152971, 0.00014662901554654531),\n",
        " (0.031125483666179066, 0.00096879573345357982),\n",
        " (0.05503688817173169, 0.0030290590596276997),\n",
        " (0.216543200926683, 0.046890957867573808),\n",
        " (0.21739128648627792, 0.047258971440158962),\n",
        " (0.5468861648830603, 0.29908447734050181),\n",
        " (0.54895314610165291, 0.3013495566149027),\n",
        " (0.61633818366342907, 0.3798727566415348),\n",
        " (0.64922674760096777, 0.42149536980053071),\n",
        " (0.70962624171977939, 0.50356940293733876),\n",
        " (0.78059456161055474, 0.60932786961597418),\n",
        " (0.8389989679533062, 0.70391926822671291),\n",
        " (0.88581584017587589, 0.78466970270649294),\n",
        " (0.90055926469515701, 0.81100698922828185),\n",
        " (0.90308264348206757, 0.81555826095855921),\n",
        " (0.95275280893629188, 0.90773791493599432),\n",
        " (0.96598134982285011, 0.93311996820557552)]"
       ]
      }
     ],
     "prompt_number": 136
    },
    {
     "cell_type": "code",
     "collapsed": false,
     "input": [],
     "language": "python",
     "metadata": {},
     "outputs": []
    }
   ],
   "metadata": {}
  }
 ]
}